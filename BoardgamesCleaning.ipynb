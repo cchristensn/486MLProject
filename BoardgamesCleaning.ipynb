{
 "cells": [
  {
   "cell_type": "code",
   "execution_count": 45,
   "metadata": {},
   "outputs": [],
   "source": [
    "import pandas as pd\n",
    "import ast"
   ]
  },
  {
   "cell_type": "code",
   "execution_count": 62,
   "metadata": {},
   "outputs": [],
   "source": [
    "trainingdata = pd.read_csv('trainingdata.csv')"
   ]
  },
  {
   "cell_type": "code",
   "execution_count": 63,
   "metadata": {},
   "outputs": [],
   "source": [
    "trainingdata['categories'] = trainingdata['categories'].apply(ast.literal_eval)\n",
    "expanded = trainingdata.explode('categories')\n",
    "one_hot = pd.get_dummies(expanded['categories'])\n",
    "\n",
    "# Group by the original DataFrame index and take the maximum to condense back to the original shape\n",
    "resultC = trainingdata.drop('categories', axis=1).join(one_hot.groupby(level=0).max())"
   ]
  },
  {
   "cell_type": "code",
   "execution_count": 64,
   "metadata": {},
   "outputs": [],
   "source": [
    "trainingdata['mechanics'] = trainingdata['mechanics'].apply(ast.literal_eval)\n",
    "expanded = trainingdata.explode('mechanics')\n",
    "one_hot = pd.get_dummies(expanded['mechanics'])\n",
    "\n",
    "# Group by the original DataFrame index and take the maximum to condense back to the original shape\n",
    "resultM = trainingdata.drop('mechanics', axis=1).join(one_hot.groupby(level=0).max())"
   ]
  },
  {
   "cell_type": "code",
   "execution_count": 65,
   "metadata": {},
   "outputs": [],
   "source": [
    "final_result = pd.concat([resultC, resultM], axis=1)"
   ]
  },
  {
   "cell_type": "code",
   "execution_count": 67,
   "metadata": {},
   "outputs": [],
   "source": [
    "trainingdata = final_result"
   ]
  },
  {
   "cell_type": "code",
   "execution_count": null,
   "metadata": {},
   "outputs": [],
   "source": [
    "#trainingdata.to_csv('cleantraining.csv')"
   ]
  },
  {
   "cell_type": "markdown",
   "metadata": {},
   "source": [
    "Now for testing data"
   ]
  },
  {
   "cell_type": "code",
   "execution_count": 69,
   "metadata": {},
   "outputs": [],
   "source": [
    "testingdata = pd.read_csv('testingdata.csv')"
   ]
  },
  {
   "cell_type": "code",
   "execution_count": 70,
   "metadata": {},
   "outputs": [],
   "source": [
    "testingdata['categories'] = testingdata['categories'].apply(ast.literal_eval)\n",
    "expanded = testingdata.explode('categories')\n",
    "one_hot = pd.get_dummies(expanded['categories'])\n",
    "\n",
    "# Group by the original DataFrame index and take the maximum to condense back to the original shape\n",
    "resultC = testingdata.drop('categories', axis=1).join(one_hot.groupby(level=0).max())"
   ]
  },
  {
   "cell_type": "code",
   "execution_count": 71,
   "metadata": {},
   "outputs": [],
   "source": [
    "testingdata['mechanics'] = testingdata['mechanics'].apply(ast.literal_eval)\n",
    "expanded = testingdata.explode('mechanics')\n",
    "one_hot = pd.get_dummies(expanded['mechanics'])\n",
    "\n",
    "# Group by the original DataFrame index and take the maximum to condense back to the original shape\n",
    "resultM = testingdata.drop('mechanics', axis=1).join(one_hot.groupby(level=0).max())"
   ]
  },
  {
   "cell_type": "code",
   "execution_count": 72,
   "metadata": {},
   "outputs": [],
   "source": [
    "final_result = pd.concat([resultC, resultM], axis=1)"
   ]
  },
  {
   "cell_type": "code",
   "execution_count": null,
   "metadata": {},
   "outputs": [],
   "source": [
    "#final_result.to_csv('cleantesting.csv')"
   ]
  },
  {
   "cell_type": "code",
   "execution_count": 81,
   "metadata": {},
   "outputs": [],
   "source": [
    "testingdata = final_result"
   ]
  },
  {
   "cell_type": "markdown",
   "metadata": {},
   "source": [
    "Need a bit more cleaning done"
   ]
  },
  {
   "cell_type": "code",
   "execution_count": 95,
   "metadata": {},
   "outputs": [],
   "source": [
    "trainingdata = trainingdata.loc[:,~trainingdata.columns.duplicated()].copy()\n",
    "testingdata = testingdata.loc[:,~testingdata.columns.duplicated()].copy()"
   ]
  },
  {
   "cell_type": "code",
   "execution_count": 97,
   "metadata": {},
   "outputs": [],
   "source": [
    "trainmissing =set(testingdata.columns) - set(trainingdata.columns)"
   ]
  },
  {
   "cell_type": "code",
   "execution_count": 98,
   "metadata": {},
   "outputs": [],
   "source": [
    "testmissing = set(trainingdata.columns) - set(testingdata.columns)"
   ]
  },
  {
   "cell_type": "code",
   "execution_count": 99,
   "metadata": {},
   "outputs": [],
   "source": [
    "for col in trainmissing:\n",
    "    trainingdata[col] = False\n",
    "    \n",
    "for col in testmissing:\n",
    "    testingdata[col] = False"
   ]
  },
  {
   "cell_type": "code",
   "execution_count": 102,
   "metadata": {},
   "outputs": [
    {
     "data": {
      "text/plain": [
       "set()"
      ]
     },
     "execution_count": 102,
     "metadata": {},
     "output_type": "execute_result"
    }
   ],
   "source": [
    "set(testingdata.columns)-set(trainingdata.columns)"
   ]
  },
  {
   "cell_type": "code",
   "execution_count": 103,
   "metadata": {},
   "outputs": [
    {
     "data": {
      "text/plain": [
       "set()"
      ]
     },
     "execution_count": 103,
     "metadata": {},
     "output_type": "execute_result"
    }
   ],
   "source": [
    "set(trainingdata.columns)-set(testingdata.columns)"
   ]
  },
  {
   "cell_type": "markdown",
   "metadata": {},
   "source": [
    "Now I will feature engineer from the description"
   ]
  },
  {
   "cell_type": "code",
   "execution_count": 107,
   "metadata": {},
   "outputs": [],
   "source": [
    "import re"
   ]
  },
  {
   "cell_type": "code",
   "execution_count": 106,
   "metadata": {},
   "outputs": [],
   "source": [
    "trainingdata['DescLen']=trainingdata['descriptions'].str.len()\n",
    "testingdata['DescLen']=testingdata['descriptions'].str.len()"
   ]
  },
  {
   "cell_type": "code",
   "execution_count": 113,
   "metadata": {},
   "outputs": [],
   "source": [
    "trainingdata['Sentences']=trainingdata['descriptions'].apply(lambda x : len(re.findall(r'[.?!]', x)))\n",
    "testingdata['Sentences']=testingdata['descriptions'].apply(lambda x : len(re.findall(r'[.?!]', x)))"
   ]
  },
  {
   "cell_type": "code",
   "execution_count": 114,
   "metadata": {},
   "outputs": [],
   "source": [
    "def unique_word_count(text):\n",
    "    if pd.isna(text) or text.strip() == \"\":\n",
    "        return 0\n",
    "    # Extract words (alphanumeric sequences)\n",
    "    words = re.findall(r'\\b\\w+\\b', text.lower())  # Case insensitive\n",
    "    return len(set(words))  # Count unique words\n",
    "\n",
    "# Function to calculate special character count\n",
    "def special_char_count(text):\n",
    "    if pd.isna(text) or text.strip() == \"\":\n",
    "        return 0\n",
    "    # Count non-alphanumeric and non-whitespace characters\n",
    "    return len(re.findall(r'[^\\w\\s]', text))"
   ]
  },
  {
   "cell_type": "code",
   "execution_count": 117,
   "metadata": {},
   "outputs": [],
   "source": [
    "testingdata['specialChar']=testingdata['descriptions'].apply(special_char_count)\n",
    "testingdata['uniqueWords']=testingdata['descriptions'].apply(unique_word_count)\n",
    "\n",
    "trainingdata['specialChar']=trainingdata['descriptions'].apply(special_char_count)\n",
    "trainingdata['uniqueWords']=trainingdata['descriptions'].apply(unique_word_count)"
   ]
  },
  {
   "cell_type": "code",
   "execution_count": null,
   "metadata": {},
   "outputs": [],
   "source": [
    "#testingdata.to_csv('cleantesting.csv')\n",
    "#trainingdata.to_csv('cleantraining.csv')"
   ]
  }
 ],
 "metadata": {
  "kernelspec": {
   "display_name": "stat386",
   "language": "python",
   "name": "python3"
  },
  "language_info": {
   "codemirror_mode": {
    "name": "ipython",
    "version": 3
   },
   "file_extension": ".py",
   "mimetype": "text/x-python",
   "name": "python",
   "nbconvert_exporter": "python",
   "pygments_lexer": "ipython3",
   "version": "3.11.7"
  }
 },
 "nbformat": 4,
 "nbformat_minor": 2
}
