{
 "cells": [
  {
   "cell_type": "code",
   "execution_count": 45,
   "metadata": {},
   "outputs": [],
   "source": [
    "import pandas as pd\n",
    "import ast"
   ]
  },
  {
   "cell_type": "code",
   "execution_count": 62,
   "metadata": {},
   "outputs": [],
   "source": [
    "trainingdata = pd.read_csv('trainingdata.csv')"
   ]
  },
  {
   "cell_type": "code",
   "execution_count": 63,
   "metadata": {},
   "outputs": [],
   "source": [
    "trainingdata['categories'] = trainingdata['categories'].apply(ast.literal_eval)\n",
    "expanded = trainingdata.explode('categories')\n",
    "one_hot = pd.get_dummies(expanded['categories'])\n",
    "\n",
    "# Group by the original DataFrame index and take the maximum to condense back to the original shape\n",
    "resultC = trainingdata.drop('categories', axis=1).join(one_hot.groupby(level=0).max())"
   ]
  },
  {
   "cell_type": "code",
   "execution_count": 64,
   "metadata": {},
   "outputs": [],
   "source": [
    "trainingdata['mechanics'] = trainingdata['mechanics'].apply(ast.literal_eval)\n",
    "expanded = trainingdata.explode('mechanics')\n",
    "one_hot = pd.get_dummies(expanded['mechanics'])\n",
    "\n",
    "# Group by the original DataFrame index and take the maximum to condense back to the original shape\n",
    "resultM = trainingdata.drop('mechanics', axis=1).join(one_hot.groupby(level=0).max())"
   ]
  },
  {
   "cell_type": "code",
   "execution_count": 65,
   "metadata": {},
   "outputs": [],
   "source": [
    "final_result = pd.concat([resultC, resultM], axis=1)"
   ]
  },
  {
   "cell_type": "code",
   "execution_count": 67,
   "metadata": {},
   "outputs": [],
   "source": [
    "trainingdata = final_result"
   ]
  },
  {
   "cell_type": "code",
   "execution_count": 68,
   "metadata": {},
   "outputs": [],
   "source": [
    "trainingdata.to_csv('cleantraining.csv')"
   ]
  }
 ],
 "metadata": {
  "kernelspec": {
   "display_name": "stat386",
   "language": "python",
   "name": "python3"
  },
  "language_info": {
   "codemirror_mode": {
    "name": "ipython",
    "version": 3
   },
   "file_extension": ".py",
   "mimetype": "text/x-python",
   "name": "python",
   "nbconvert_exporter": "python",
   "pygments_lexer": "ipython3",
   "version": "3.11.7"
  }
 },
 "nbformat": 4,
 "nbformat_minor": 2
}
