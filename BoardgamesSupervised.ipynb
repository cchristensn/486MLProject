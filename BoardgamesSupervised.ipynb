{
 "cells": [
  {
   "cell_type": "code",
   "execution_count": 61,
   "metadata": {},
   "outputs": [],
   "source": [
    "import pandas as pd\n",
    "import numpy as np\n",
    "from sklearn.model_selection import RandomizedSearchCV, train_test_split\n",
    "from sklearn.ensemble import RandomForestRegressor\n",
    "from sklearn.neighbors import KNeighborsRegressor\n",
    "from sklearn.pipeline import Pipeline\n",
    "from sklearn.preprocessing import StandardScaler\n",
    "from sklearn.linear_model import LassoCV\n",
    "from sklearn.svm import SVR\n",
    "from sklearn.metrics import mean_squared_error"
   ]
  },
  {
   "cell_type": "code",
   "execution_count": 15,
   "metadata": {},
   "outputs": [],
   "source": [
    "data = pd.read_csv('cleantraining.csv')"
   ]
  },
  {
   "cell_type": "code",
   "execution_count": 43,
   "metadata": {},
   "outputs": [],
   "source": [
    "UnrankedGames = pd.read_csv('cleantesting.csv')\n",
    "UnrankedGames =UnrankedGames.reindex(columns=data.columns)\n",
    "UnrankedX = UnrankedGames.drop(['id','bayesaverage','name','descriptions','mechanics','categories'], axis=1)"
   ]
  },
  {
   "cell_type": "code",
   "execution_count": 24,
   "metadata": {},
   "outputs": [],
   "source": [
    "y=data['bayesaverage']\n",
    "X=data.drop(['id','bayesaverage','name','descriptions','mechanics','categories'], axis=1)\n",
    "\n",
    "X_train, X_test, y_train, y_test = train_test_split(X, y, test_size=0.2, random_state=3585)"
   ]
  },
  {
   "cell_type": "markdown",
   "metadata": {},
   "source": [
    "##### Lasso Regresion"
   ]
  },
  {
   "cell_type": "code",
   "execution_count": 28,
   "metadata": {},
   "outputs": [],
   "source": [
    "pipeLasso = Pipeline([\n",
    "    ('scale', StandardScaler()),\n",
    "    ('model', LassoCV())\n",
    "])"
   ]
  },
  {
   "cell_type": "code",
   "execution_count": 29,
   "metadata": {},
   "outputs": [
    {
     "data": {
      "text/html": [
       "<style>#sk-container-id-2 {color: black;background-color: white;}#sk-container-id-2 pre{padding: 0;}#sk-container-id-2 div.sk-toggleable {background-color: white;}#sk-container-id-2 label.sk-toggleable__label {cursor: pointer;display: block;width: 100%;margin-bottom: 0;padding: 0.3em;box-sizing: border-box;text-align: center;}#sk-container-id-2 label.sk-toggleable__label-arrow:before {content: \"▸\";float: left;margin-right: 0.25em;color: #696969;}#sk-container-id-2 label.sk-toggleable__label-arrow:hover:before {color: black;}#sk-container-id-2 div.sk-estimator:hover label.sk-toggleable__label-arrow:before {color: black;}#sk-container-id-2 div.sk-toggleable__content {max-height: 0;max-width: 0;overflow: hidden;text-align: left;background-color: #f0f8ff;}#sk-container-id-2 div.sk-toggleable__content pre {margin: 0.2em;color: black;border-radius: 0.25em;background-color: #f0f8ff;}#sk-container-id-2 input.sk-toggleable__control:checked~div.sk-toggleable__content {max-height: 200px;max-width: 100%;overflow: auto;}#sk-container-id-2 input.sk-toggleable__control:checked~label.sk-toggleable__label-arrow:before {content: \"▾\";}#sk-container-id-2 div.sk-estimator input.sk-toggleable__control:checked~label.sk-toggleable__label {background-color: #d4ebff;}#sk-container-id-2 div.sk-label input.sk-toggleable__control:checked~label.sk-toggleable__label {background-color: #d4ebff;}#sk-container-id-2 input.sk-hidden--visually {border: 0;clip: rect(1px 1px 1px 1px);clip: rect(1px, 1px, 1px, 1px);height: 1px;margin: -1px;overflow: hidden;padding: 0;position: absolute;width: 1px;}#sk-container-id-2 div.sk-estimator {font-family: monospace;background-color: #f0f8ff;border: 1px dotted black;border-radius: 0.25em;box-sizing: border-box;margin-bottom: 0.5em;}#sk-container-id-2 div.sk-estimator:hover {background-color: #d4ebff;}#sk-container-id-2 div.sk-parallel-item::after {content: \"\";width: 100%;border-bottom: 1px solid gray;flex-grow: 1;}#sk-container-id-2 div.sk-label:hover label.sk-toggleable__label {background-color: #d4ebff;}#sk-container-id-2 div.sk-serial::before {content: \"\";position: absolute;border-left: 1px solid gray;box-sizing: border-box;top: 0;bottom: 0;left: 50%;z-index: 0;}#sk-container-id-2 div.sk-serial {display: flex;flex-direction: column;align-items: center;background-color: white;padding-right: 0.2em;padding-left: 0.2em;position: relative;}#sk-container-id-2 div.sk-item {position: relative;z-index: 1;}#sk-container-id-2 div.sk-parallel {display: flex;align-items: stretch;justify-content: center;background-color: white;position: relative;}#sk-container-id-2 div.sk-item::before, #sk-container-id-2 div.sk-parallel-item::before {content: \"\";position: absolute;border-left: 1px solid gray;box-sizing: border-box;top: 0;bottom: 0;left: 50%;z-index: -1;}#sk-container-id-2 div.sk-parallel-item {display: flex;flex-direction: column;z-index: 1;position: relative;background-color: white;}#sk-container-id-2 div.sk-parallel-item:first-child::after {align-self: flex-end;width: 50%;}#sk-container-id-2 div.sk-parallel-item:last-child::after {align-self: flex-start;width: 50%;}#sk-container-id-2 div.sk-parallel-item:only-child::after {width: 0;}#sk-container-id-2 div.sk-dashed-wrapped {border: 1px dashed gray;margin: 0 0.4em 0.5em 0.4em;box-sizing: border-box;padding-bottom: 0.4em;background-color: white;}#sk-container-id-2 div.sk-label label {font-family: monospace;font-weight: bold;display: inline-block;line-height: 1.2em;}#sk-container-id-2 div.sk-label-container {text-align: center;}#sk-container-id-2 div.sk-container {/* jupyter's `normalize.less` sets `[hidden] { display: none; }` but bootstrap.min.css set `[hidden] { display: none !important; }` so we also need the `!important` here to be able to override the default hidden behavior on the sphinx rendered scikit-learn.org. See: https://github.com/scikit-learn/scikit-learn/issues/21755 */display: inline-block !important;position: relative;}#sk-container-id-2 div.sk-text-repr-fallback {display: none;}</style><div id=\"sk-container-id-2\" class=\"sk-top-container\"><div class=\"sk-text-repr-fallback\"><pre>Pipeline(steps=[(&#x27;scale&#x27;, StandardScaler()), (&#x27;model&#x27;, LassoCV())])</pre><b>In a Jupyter environment, please rerun this cell to show the HTML representation or trust the notebook. <br />On GitHub, the HTML representation is unable to render, please try loading this page with nbviewer.org.</b></div><div class=\"sk-container\" hidden><div class=\"sk-item sk-dashed-wrapped\"><div class=\"sk-label-container\"><div class=\"sk-label sk-toggleable\"><input class=\"sk-toggleable__control sk-hidden--visually\" id=\"sk-estimator-id-4\" type=\"checkbox\" ><label for=\"sk-estimator-id-4\" class=\"sk-toggleable__label sk-toggleable__label-arrow\">Pipeline</label><div class=\"sk-toggleable__content\"><pre>Pipeline(steps=[(&#x27;scale&#x27;, StandardScaler()), (&#x27;model&#x27;, LassoCV())])</pre></div></div></div><div class=\"sk-serial\"><div class=\"sk-item\"><div class=\"sk-estimator sk-toggleable\"><input class=\"sk-toggleable__control sk-hidden--visually\" id=\"sk-estimator-id-5\" type=\"checkbox\" ><label for=\"sk-estimator-id-5\" class=\"sk-toggleable__label sk-toggleable__label-arrow\">StandardScaler</label><div class=\"sk-toggleable__content\"><pre>StandardScaler()</pre></div></div></div><div class=\"sk-item\"><div class=\"sk-estimator sk-toggleable\"><input class=\"sk-toggleable__control sk-hidden--visually\" id=\"sk-estimator-id-6\" type=\"checkbox\" ><label for=\"sk-estimator-id-6\" class=\"sk-toggleable__label sk-toggleable__label-arrow\">LassoCV</label><div class=\"sk-toggleable__content\"><pre>LassoCV()</pre></div></div></div></div></div></div></div>"
      ],
      "text/plain": [
       "Pipeline(steps=[('scale', StandardScaler()), ('model', LassoCV())])"
      ]
     },
     "execution_count": 29,
     "metadata": {},
     "output_type": "execute_result"
    }
   ],
   "source": [
    "pipeLasso.fit(X_train,y_train)"
   ]
  },
  {
   "cell_type": "code",
   "execution_count": 31,
   "metadata": {},
   "outputs": [
    {
     "data": {
      "text/plain": [
       "0.4634214877221356"
      ]
     },
     "execution_count": 31,
     "metadata": {},
     "output_type": "execute_result"
    }
   ],
   "source": [
    "yhat=pipeLasso.predict(X_test)\n",
    "np.sqrt(mean_squared_error(y_test,yhat))"
   ]
  },
  {
   "cell_type": "markdown",
   "metadata": {},
   "source": [
    "##### Random Forest"
   ]
  },
  {
   "cell_type": "code",
   "execution_count": 47,
   "metadata": {},
   "outputs": [
    {
     "data": {
      "text/html": [
       "<style>#sk-container-id-3 {color: black;background-color: white;}#sk-container-id-3 pre{padding: 0;}#sk-container-id-3 div.sk-toggleable {background-color: white;}#sk-container-id-3 label.sk-toggleable__label {cursor: pointer;display: block;width: 100%;margin-bottom: 0;padding: 0.3em;box-sizing: border-box;text-align: center;}#sk-container-id-3 label.sk-toggleable__label-arrow:before {content: \"▸\";float: left;margin-right: 0.25em;color: #696969;}#sk-container-id-3 label.sk-toggleable__label-arrow:hover:before {color: black;}#sk-container-id-3 div.sk-estimator:hover label.sk-toggleable__label-arrow:before {color: black;}#sk-container-id-3 div.sk-toggleable__content {max-height: 0;max-width: 0;overflow: hidden;text-align: left;background-color: #f0f8ff;}#sk-container-id-3 div.sk-toggleable__content pre {margin: 0.2em;color: black;border-radius: 0.25em;background-color: #f0f8ff;}#sk-container-id-3 input.sk-toggleable__control:checked~div.sk-toggleable__content {max-height: 200px;max-width: 100%;overflow: auto;}#sk-container-id-3 input.sk-toggleable__control:checked~label.sk-toggleable__label-arrow:before {content: \"▾\";}#sk-container-id-3 div.sk-estimator input.sk-toggleable__control:checked~label.sk-toggleable__label {background-color: #d4ebff;}#sk-container-id-3 div.sk-label input.sk-toggleable__control:checked~label.sk-toggleable__label {background-color: #d4ebff;}#sk-container-id-3 input.sk-hidden--visually {border: 0;clip: rect(1px 1px 1px 1px);clip: rect(1px, 1px, 1px, 1px);height: 1px;margin: -1px;overflow: hidden;padding: 0;position: absolute;width: 1px;}#sk-container-id-3 div.sk-estimator {font-family: monospace;background-color: #f0f8ff;border: 1px dotted black;border-radius: 0.25em;box-sizing: border-box;margin-bottom: 0.5em;}#sk-container-id-3 div.sk-estimator:hover {background-color: #d4ebff;}#sk-container-id-3 div.sk-parallel-item::after {content: \"\";width: 100%;border-bottom: 1px solid gray;flex-grow: 1;}#sk-container-id-3 div.sk-label:hover label.sk-toggleable__label {background-color: #d4ebff;}#sk-container-id-3 div.sk-serial::before {content: \"\";position: absolute;border-left: 1px solid gray;box-sizing: border-box;top: 0;bottom: 0;left: 50%;z-index: 0;}#sk-container-id-3 div.sk-serial {display: flex;flex-direction: column;align-items: center;background-color: white;padding-right: 0.2em;padding-left: 0.2em;position: relative;}#sk-container-id-3 div.sk-item {position: relative;z-index: 1;}#sk-container-id-3 div.sk-parallel {display: flex;align-items: stretch;justify-content: center;background-color: white;position: relative;}#sk-container-id-3 div.sk-item::before, #sk-container-id-3 div.sk-parallel-item::before {content: \"\";position: absolute;border-left: 1px solid gray;box-sizing: border-box;top: 0;bottom: 0;left: 50%;z-index: -1;}#sk-container-id-3 div.sk-parallel-item {display: flex;flex-direction: column;z-index: 1;position: relative;background-color: white;}#sk-container-id-3 div.sk-parallel-item:first-child::after {align-self: flex-end;width: 50%;}#sk-container-id-3 div.sk-parallel-item:last-child::after {align-self: flex-start;width: 50%;}#sk-container-id-3 div.sk-parallel-item:only-child::after {width: 0;}#sk-container-id-3 div.sk-dashed-wrapped {border: 1px dashed gray;margin: 0 0.4em 0.5em 0.4em;box-sizing: border-box;padding-bottom: 0.4em;background-color: white;}#sk-container-id-3 div.sk-label label {font-family: monospace;font-weight: bold;display: inline-block;line-height: 1.2em;}#sk-container-id-3 div.sk-label-container {text-align: center;}#sk-container-id-3 div.sk-container {/* jupyter's `normalize.less` sets `[hidden] { display: none; }` but bootstrap.min.css set `[hidden] { display: none !important; }` so we also need the `!important` here to be able to override the default hidden behavior on the sphinx rendered scikit-learn.org. See: https://github.com/scikit-learn/scikit-learn/issues/21755 */display: inline-block !important;position: relative;}#sk-container-id-3 div.sk-text-repr-fallback {display: none;}</style><div id=\"sk-container-id-3\" class=\"sk-top-container\"><div class=\"sk-text-repr-fallback\"><pre>RandomForestRegressor()</pre><b>In a Jupyter environment, please rerun this cell to show the HTML representation or trust the notebook. <br />On GitHub, the HTML representation is unable to render, please try loading this page with nbviewer.org.</b></div><div class=\"sk-container\" hidden><div class=\"sk-item\"><div class=\"sk-estimator sk-toggleable\"><input class=\"sk-toggleable__control sk-hidden--visually\" id=\"sk-estimator-id-7\" type=\"checkbox\" checked><label for=\"sk-estimator-id-7\" class=\"sk-toggleable__label sk-toggleable__label-arrow\">RandomForestRegressor</label><div class=\"sk-toggleable__content\"><pre>RandomForestRegressor()</pre></div></div></div></div></div>"
      ],
      "text/plain": [
       "RandomForestRegressor()"
      ]
     },
     "execution_count": 47,
     "metadata": {},
     "output_type": "execute_result"
    }
   ],
   "source": [
    "RFmod = RandomForestRegressor()\n",
    "RFmod.fit(X_train, y_train)"
   ]
  },
  {
   "cell_type": "code",
   "execution_count": null,
   "metadata": {},
   "outputs": [
    {
     "data": {
      "text/plain": [
       "0.4285098093850316"
      ]
     },
     "execution_count": 48,
     "metadata": {},
     "output_type": "execute_result"
    }
   ],
   "source": [
    "yhat=RFmod.predict(X_test)\n",
    "np.sqrt(mean_squared_error(y_test,yhat))"
   ]
  },
  {
   "cell_type": "markdown",
   "metadata": {},
   "source": [
    "##### KNN"
   ]
  },
  {
   "cell_type": "code",
   "execution_count": 54,
   "metadata": {},
   "outputs": [
    {
     "data": {
      "text/html": [
       "<style>#sk-container-id-4 {color: black;background-color: white;}#sk-container-id-4 pre{padding: 0;}#sk-container-id-4 div.sk-toggleable {background-color: white;}#sk-container-id-4 label.sk-toggleable__label {cursor: pointer;display: block;width: 100%;margin-bottom: 0;padding: 0.3em;box-sizing: border-box;text-align: center;}#sk-container-id-4 label.sk-toggleable__label-arrow:before {content: \"▸\";float: left;margin-right: 0.25em;color: #696969;}#sk-container-id-4 label.sk-toggleable__label-arrow:hover:before {color: black;}#sk-container-id-4 div.sk-estimator:hover label.sk-toggleable__label-arrow:before {color: black;}#sk-container-id-4 div.sk-toggleable__content {max-height: 0;max-width: 0;overflow: hidden;text-align: left;background-color: #f0f8ff;}#sk-container-id-4 div.sk-toggleable__content pre {margin: 0.2em;color: black;border-radius: 0.25em;background-color: #f0f8ff;}#sk-container-id-4 input.sk-toggleable__control:checked~div.sk-toggleable__content {max-height: 200px;max-width: 100%;overflow: auto;}#sk-container-id-4 input.sk-toggleable__control:checked~label.sk-toggleable__label-arrow:before {content: \"▾\";}#sk-container-id-4 div.sk-estimator input.sk-toggleable__control:checked~label.sk-toggleable__label {background-color: #d4ebff;}#sk-container-id-4 div.sk-label input.sk-toggleable__control:checked~label.sk-toggleable__label {background-color: #d4ebff;}#sk-container-id-4 input.sk-hidden--visually {border: 0;clip: rect(1px 1px 1px 1px);clip: rect(1px, 1px, 1px, 1px);height: 1px;margin: -1px;overflow: hidden;padding: 0;position: absolute;width: 1px;}#sk-container-id-4 div.sk-estimator {font-family: monospace;background-color: #f0f8ff;border: 1px dotted black;border-radius: 0.25em;box-sizing: border-box;margin-bottom: 0.5em;}#sk-container-id-4 div.sk-estimator:hover {background-color: #d4ebff;}#sk-container-id-4 div.sk-parallel-item::after {content: \"\";width: 100%;border-bottom: 1px solid gray;flex-grow: 1;}#sk-container-id-4 div.sk-label:hover label.sk-toggleable__label {background-color: #d4ebff;}#sk-container-id-4 div.sk-serial::before {content: \"\";position: absolute;border-left: 1px solid gray;box-sizing: border-box;top: 0;bottom: 0;left: 50%;z-index: 0;}#sk-container-id-4 div.sk-serial {display: flex;flex-direction: column;align-items: center;background-color: white;padding-right: 0.2em;padding-left: 0.2em;position: relative;}#sk-container-id-4 div.sk-item {position: relative;z-index: 1;}#sk-container-id-4 div.sk-parallel {display: flex;align-items: stretch;justify-content: center;background-color: white;position: relative;}#sk-container-id-4 div.sk-item::before, #sk-container-id-4 div.sk-parallel-item::before {content: \"\";position: absolute;border-left: 1px solid gray;box-sizing: border-box;top: 0;bottom: 0;left: 50%;z-index: -1;}#sk-container-id-4 div.sk-parallel-item {display: flex;flex-direction: column;z-index: 1;position: relative;background-color: white;}#sk-container-id-4 div.sk-parallel-item:first-child::after {align-self: flex-end;width: 50%;}#sk-container-id-4 div.sk-parallel-item:last-child::after {align-self: flex-start;width: 50%;}#sk-container-id-4 div.sk-parallel-item:only-child::after {width: 0;}#sk-container-id-4 div.sk-dashed-wrapped {border: 1px dashed gray;margin: 0 0.4em 0.5em 0.4em;box-sizing: border-box;padding-bottom: 0.4em;background-color: white;}#sk-container-id-4 div.sk-label label {font-family: monospace;font-weight: bold;display: inline-block;line-height: 1.2em;}#sk-container-id-4 div.sk-label-container {text-align: center;}#sk-container-id-4 div.sk-container {/* jupyter's `normalize.less` sets `[hidden] { display: none; }` but bootstrap.min.css set `[hidden] { display: none !important; }` so we also need the `!important` here to be able to override the default hidden behavior on the sphinx rendered scikit-learn.org. See: https://github.com/scikit-learn/scikit-learn/issues/21755 */display: inline-block !important;position: relative;}#sk-container-id-4 div.sk-text-repr-fallback {display: none;}</style><div id=\"sk-container-id-4\" class=\"sk-top-container\"><div class=\"sk-text-repr-fallback\"><pre>Pipeline(steps=[(&#x27;scale&#x27;, StandardScaler()),\n",
       "                (&#x27;model&#x27;, KNeighborsRegressor(n_neighbors=30))])</pre><b>In a Jupyter environment, please rerun this cell to show the HTML representation or trust the notebook. <br />On GitHub, the HTML representation is unable to render, please try loading this page with nbviewer.org.</b></div><div class=\"sk-container\" hidden><div class=\"sk-item sk-dashed-wrapped\"><div class=\"sk-label-container\"><div class=\"sk-label sk-toggleable\"><input class=\"sk-toggleable__control sk-hidden--visually\" id=\"sk-estimator-id-8\" type=\"checkbox\" ><label for=\"sk-estimator-id-8\" class=\"sk-toggleable__label sk-toggleable__label-arrow\">Pipeline</label><div class=\"sk-toggleable__content\"><pre>Pipeline(steps=[(&#x27;scale&#x27;, StandardScaler()),\n",
       "                (&#x27;model&#x27;, KNeighborsRegressor(n_neighbors=30))])</pre></div></div></div><div class=\"sk-serial\"><div class=\"sk-item\"><div class=\"sk-estimator sk-toggleable\"><input class=\"sk-toggleable__control sk-hidden--visually\" id=\"sk-estimator-id-9\" type=\"checkbox\" ><label for=\"sk-estimator-id-9\" class=\"sk-toggleable__label sk-toggleable__label-arrow\">StandardScaler</label><div class=\"sk-toggleable__content\"><pre>StandardScaler()</pre></div></div></div><div class=\"sk-item\"><div class=\"sk-estimator sk-toggleable\"><input class=\"sk-toggleable__control sk-hidden--visually\" id=\"sk-estimator-id-10\" type=\"checkbox\" ><label for=\"sk-estimator-id-10\" class=\"sk-toggleable__label sk-toggleable__label-arrow\">KNeighborsRegressor</label><div class=\"sk-toggleable__content\"><pre>KNeighborsRegressor(n_neighbors=30)</pre></div></div></div></div></div></div></div>"
      ],
      "text/plain": [
       "Pipeline(steps=[('scale', StandardScaler()),\n",
       "                ('model', KNeighborsRegressor(n_neighbors=30))])"
      ]
     },
     "execution_count": 54,
     "metadata": {},
     "output_type": "execute_result"
    }
   ],
   "source": [
    "pipeknn = Pipeline([\n",
    "    ('scale', StandardScaler()),\n",
    "    ('model', KNeighborsRegressor(n_neighbors=30))\n",
    "])\n",
    "pipeknn.fit(X_train, y_train)"
   ]
  },
  {
   "cell_type": "code",
   "execution_count": 55,
   "metadata": {},
   "outputs": [
    {
     "data": {
      "text/plain": [
       "0.6798263631261069"
      ]
     },
     "execution_count": 55,
     "metadata": {},
     "output_type": "execute_result"
    }
   ],
   "source": [
    "yhat=pipeknn.predict(X_test)\n",
    "np.sqrt(mean_squared_error(y_test,yhat))"
   ]
  },
  {
   "cell_type": "markdown",
   "metadata": {},
   "source": [
    "May be a bit underfit"
   ]
  },
  {
   "cell_type": "markdown",
   "metadata": {},
   "source": [
    "##### SVM"
   ]
  },
  {
   "cell_type": "code",
   "execution_count": 62,
   "metadata": {},
   "outputs": [
    {
     "data": {
      "text/html": [
       "<style>#sk-container-id-6 {color: black;background-color: white;}#sk-container-id-6 pre{padding: 0;}#sk-container-id-6 div.sk-toggleable {background-color: white;}#sk-container-id-6 label.sk-toggleable__label {cursor: pointer;display: block;width: 100%;margin-bottom: 0;padding: 0.3em;box-sizing: border-box;text-align: center;}#sk-container-id-6 label.sk-toggleable__label-arrow:before {content: \"▸\";float: left;margin-right: 0.25em;color: #696969;}#sk-container-id-6 label.sk-toggleable__label-arrow:hover:before {color: black;}#sk-container-id-6 div.sk-estimator:hover label.sk-toggleable__label-arrow:before {color: black;}#sk-container-id-6 div.sk-toggleable__content {max-height: 0;max-width: 0;overflow: hidden;text-align: left;background-color: #f0f8ff;}#sk-container-id-6 div.sk-toggleable__content pre {margin: 0.2em;color: black;border-radius: 0.25em;background-color: #f0f8ff;}#sk-container-id-6 input.sk-toggleable__control:checked~div.sk-toggleable__content {max-height: 200px;max-width: 100%;overflow: auto;}#sk-container-id-6 input.sk-toggleable__control:checked~label.sk-toggleable__label-arrow:before {content: \"▾\";}#sk-container-id-6 div.sk-estimator input.sk-toggleable__control:checked~label.sk-toggleable__label {background-color: #d4ebff;}#sk-container-id-6 div.sk-label input.sk-toggleable__control:checked~label.sk-toggleable__label {background-color: #d4ebff;}#sk-container-id-6 input.sk-hidden--visually {border: 0;clip: rect(1px 1px 1px 1px);clip: rect(1px, 1px, 1px, 1px);height: 1px;margin: -1px;overflow: hidden;padding: 0;position: absolute;width: 1px;}#sk-container-id-6 div.sk-estimator {font-family: monospace;background-color: #f0f8ff;border: 1px dotted black;border-radius: 0.25em;box-sizing: border-box;margin-bottom: 0.5em;}#sk-container-id-6 div.sk-estimator:hover {background-color: #d4ebff;}#sk-container-id-6 div.sk-parallel-item::after {content: \"\";width: 100%;border-bottom: 1px solid gray;flex-grow: 1;}#sk-container-id-6 div.sk-label:hover label.sk-toggleable__label {background-color: #d4ebff;}#sk-container-id-6 div.sk-serial::before {content: \"\";position: absolute;border-left: 1px solid gray;box-sizing: border-box;top: 0;bottom: 0;left: 50%;z-index: 0;}#sk-container-id-6 div.sk-serial {display: flex;flex-direction: column;align-items: center;background-color: white;padding-right: 0.2em;padding-left: 0.2em;position: relative;}#sk-container-id-6 div.sk-item {position: relative;z-index: 1;}#sk-container-id-6 div.sk-parallel {display: flex;align-items: stretch;justify-content: center;background-color: white;position: relative;}#sk-container-id-6 div.sk-item::before, #sk-container-id-6 div.sk-parallel-item::before {content: \"\";position: absolute;border-left: 1px solid gray;box-sizing: border-box;top: 0;bottom: 0;left: 50%;z-index: -1;}#sk-container-id-6 div.sk-parallel-item {display: flex;flex-direction: column;z-index: 1;position: relative;background-color: white;}#sk-container-id-6 div.sk-parallel-item:first-child::after {align-self: flex-end;width: 50%;}#sk-container-id-6 div.sk-parallel-item:last-child::after {align-self: flex-start;width: 50%;}#sk-container-id-6 div.sk-parallel-item:only-child::after {width: 0;}#sk-container-id-6 div.sk-dashed-wrapped {border: 1px dashed gray;margin: 0 0.4em 0.5em 0.4em;box-sizing: border-box;padding-bottom: 0.4em;background-color: white;}#sk-container-id-6 div.sk-label label {font-family: monospace;font-weight: bold;display: inline-block;line-height: 1.2em;}#sk-container-id-6 div.sk-label-container {text-align: center;}#sk-container-id-6 div.sk-container {/* jupyter's `normalize.less` sets `[hidden] { display: none; }` but bootstrap.min.css set `[hidden] { display: none !important; }` so we also need the `!important` here to be able to override the default hidden behavior on the sphinx rendered scikit-learn.org. See: https://github.com/scikit-learn/scikit-learn/issues/21755 */display: inline-block !important;position: relative;}#sk-container-id-6 div.sk-text-repr-fallback {display: none;}</style><div id=\"sk-container-id-6\" class=\"sk-top-container\"><div class=\"sk-text-repr-fallback\"><pre>Pipeline(steps=[(&#x27;scale&#x27;, StandardScaler()), (&#x27;model&#x27;, SVR())])</pre><b>In a Jupyter environment, please rerun this cell to show the HTML representation or trust the notebook. <br />On GitHub, the HTML representation is unable to render, please try loading this page with nbviewer.org.</b></div><div class=\"sk-container\" hidden><div class=\"sk-item sk-dashed-wrapped\"><div class=\"sk-label-container\"><div class=\"sk-label sk-toggleable\"><input class=\"sk-toggleable__control sk-hidden--visually\" id=\"sk-estimator-id-14\" type=\"checkbox\" ><label for=\"sk-estimator-id-14\" class=\"sk-toggleable__label sk-toggleable__label-arrow\">Pipeline</label><div class=\"sk-toggleable__content\"><pre>Pipeline(steps=[(&#x27;scale&#x27;, StandardScaler()), (&#x27;model&#x27;, SVR())])</pre></div></div></div><div class=\"sk-serial\"><div class=\"sk-item\"><div class=\"sk-estimator sk-toggleable\"><input class=\"sk-toggleable__control sk-hidden--visually\" id=\"sk-estimator-id-15\" type=\"checkbox\" ><label for=\"sk-estimator-id-15\" class=\"sk-toggleable__label sk-toggleable__label-arrow\">StandardScaler</label><div class=\"sk-toggleable__content\"><pre>StandardScaler()</pre></div></div></div><div class=\"sk-item\"><div class=\"sk-estimator sk-toggleable\"><input class=\"sk-toggleable__control sk-hidden--visually\" id=\"sk-estimator-id-16\" type=\"checkbox\" ><label for=\"sk-estimator-id-16\" class=\"sk-toggleable__label sk-toggleable__label-arrow\">SVR</label><div class=\"sk-toggleable__content\"><pre>SVR()</pre></div></div></div></div></div></div></div>"
      ],
      "text/plain": [
       "Pipeline(steps=[('scale', StandardScaler()), ('model', SVR())])"
      ]
     },
     "execution_count": 62,
     "metadata": {},
     "output_type": "execute_result"
    }
   ],
   "source": [
    "pipesvm = Pipeline([\n",
    "    ('scale', StandardScaler()),\n",
    "    ('model', SVR(kernel='rbf'))\n",
    "])\n",
    "pipesvm.fit(X_train, y_train)"
   ]
  },
  {
   "cell_type": "code",
   "execution_count": 63,
   "metadata": {},
   "outputs": [
    {
     "data": {
      "text/plain": [
       "0.5522500176259699"
      ]
     },
     "execution_count": 63,
     "metadata": {},
     "output_type": "execute_result"
    }
   ],
   "source": [
    "yhat=pipesvm.predict(X_test)\n",
    "np.sqrt(mean_squared_error(y_test,yhat))"
   ]
  },
  {
   "cell_type": "markdown",
   "metadata": {},
   "source": [
    "##### Create a table with Predictions"
   ]
  },
  {
   "cell_type": "code",
   "execution_count": 56,
   "metadata": {},
   "outputs": [],
   "source": [
    "predRF = RFmod.predict(UnrankedX)\n",
    "predKNN = pipeknn.predict(UnrankedX)"
   ]
  },
  {
   "cell_type": "code",
   "execution_count": 64,
   "metadata": {},
   "outputs": [],
   "source": [
    "predLasso = pipeLasso.predict(UnrankedX)\n",
    "predSVM = pipesvm.predict(UnrankedX)"
   ]
  },
  {
   "cell_type": "code",
   "execution_count": 65,
   "metadata": {},
   "outputs": [],
   "source": [
    "predDF = pd.DataFrame({'Name': UnrankedGames['name'],\n",
    "                       'PredLasso': predLasso,\n",
    "                       'PredRF': predRF,\n",
    "                       'PredKNN': predKNN,\n",
    "                       'PredSVM': predSVM,\n",
    "                       'OldRating': UnrankedGames['bayesaverage']})"
   ]
  },
  {
   "cell_type": "code",
   "execution_count": null,
   "metadata": {},
   "outputs": [],
   "source": [
    "predDF['AvgPred']=predDF.loc[: , \"PredLasso\":\"PredSVM\"].mean(axis=1)"
   ]
  },
  {
   "cell_type": "code",
   "execution_count": 72,
   "metadata": {},
   "outputs": [
    {
     "data": {
      "text/html": [
       "<div>\n",
       "<style scoped>\n",
       "    .dataframe tbody tr th:only-of-type {\n",
       "        vertical-align: middle;\n",
       "    }\n",
       "\n",
       "    .dataframe tbody tr th {\n",
       "        vertical-align: top;\n",
       "    }\n",
       "\n",
       "    .dataframe thead th {\n",
       "        text-align: right;\n",
       "    }\n",
       "</style>\n",
       "<table border=\"1\" class=\"dataframe\">\n",
       "  <thead>\n",
       "    <tr style=\"text-align: right;\">\n",
       "      <th></th>\n",
       "      <th>Name</th>\n",
       "      <th>PredLasso</th>\n",
       "      <th>PredRF</th>\n",
       "      <th>PredKNN</th>\n",
       "      <th>PredSVM</th>\n",
       "      <th>OldRating</th>\n",
       "      <th>AvgPred</th>\n",
       "    </tr>\n",
       "  </thead>\n",
       "  <tbody>\n",
       "    <tr>\n",
       "      <th>194</th>\n",
       "      <td>To Take Washington: Jubal Early's Summer 1864 ...</td>\n",
       "      <td>7.692874</td>\n",
       "      <td>7.855165</td>\n",
       "      <td>6.969739</td>\n",
       "      <td>7.142941</td>\n",
       "      <td>5.57647</td>\n",
       "      <td>7.415180</td>\n",
       "    </tr>\n",
       "    <tr>\n",
       "      <th>449</th>\n",
       "      <td>Vietnam: 1965-1975 (2nd edition)</td>\n",
       "      <td>7.475841</td>\n",
       "      <td>7.757145</td>\n",
       "      <td>6.965150</td>\n",
       "      <td>7.142916</td>\n",
       "      <td>5.66859</td>\n",
       "      <td>7.335263</td>\n",
       "    </tr>\n",
       "    <tr>\n",
       "      <th>138</th>\n",
       "      <td>Legacy of Thracks: The Awakening</td>\n",
       "      <td>7.383316</td>\n",
       "      <td>7.770061</td>\n",
       "      <td>6.709580</td>\n",
       "      <td>7.180343</td>\n",
       "      <td>5.51825</td>\n",
       "      <td>7.260825</td>\n",
       "    </tr>\n",
       "    <tr>\n",
       "      <th>15</th>\n",
       "      <td>Wild Gardens</td>\n",
       "      <td>7.802215</td>\n",
       "      <td>7.120847</td>\n",
       "      <td>6.619307</td>\n",
       "      <td>7.435253</td>\n",
       "      <td>5.62107</td>\n",
       "      <td>7.244406</td>\n",
       "    </tr>\n",
       "    <tr>\n",
       "      <th>392</th>\n",
       "      <td>Periorbis</td>\n",
       "      <td>7.325933</td>\n",
       "      <td>7.732180</td>\n",
       "      <td>6.689146</td>\n",
       "      <td>7.126318</td>\n",
       "      <td>5.52659</td>\n",
       "      <td>7.218395</td>\n",
       "    </tr>\n",
       "    <tr>\n",
       "      <th>...</th>\n",
       "      <td>...</td>\n",
       "      <td>...</td>\n",
       "      <td>...</td>\n",
       "      <td>...</td>\n",
       "      <td>...</td>\n",
       "      <td>...</td>\n",
       "      <td>...</td>\n",
       "    </tr>\n",
       "    <tr>\n",
       "      <th>93</th>\n",
       "      <td>Big Brother: The Game</td>\n",
       "      <td>5.892596</td>\n",
       "      <td>5.950126</td>\n",
       "      <td>5.993004</td>\n",
       "      <td>5.848536</td>\n",
       "      <td>5.43686</td>\n",
       "      <td>5.921065</td>\n",
       "    </tr>\n",
       "    <tr>\n",
       "      <th>114</th>\n",
       "      <td>Rock Paper Scissors</td>\n",
       "      <td>5.868866</td>\n",
       "      <td>5.284767</td>\n",
       "      <td>6.302632</td>\n",
       "      <td>6.150663</td>\n",
       "      <td>5.43849</td>\n",
       "      <td>5.901732</td>\n",
       "    </tr>\n",
       "    <tr>\n",
       "      <th>424</th>\n",
       "      <td>Tilt'n Tumble</td>\n",
       "      <td>5.823522</td>\n",
       "      <td>5.990794</td>\n",
       "      <td>6.120579</td>\n",
       "      <td>5.656010</td>\n",
       "      <td>5.49995</td>\n",
       "      <td>5.897726</td>\n",
       "    </tr>\n",
       "    <tr>\n",
       "      <th>421</th>\n",
       "      <td>Biljard</td>\n",
       "      <td>5.607678</td>\n",
       "      <td>6.303566</td>\n",
       "      <td>6.245016</td>\n",
       "      <td>5.433014</td>\n",
       "      <td>5.51144</td>\n",
       "      <td>5.897319</td>\n",
       "    </tr>\n",
       "    <tr>\n",
       "      <th>451</th>\n",
       "      <td>Test Match</td>\n",
       "      <td>5.281132</td>\n",
       "      <td>5.416412</td>\n",
       "      <td>6.113336</td>\n",
       "      <td>6.158107</td>\n",
       "      <td>5.53063</td>\n",
       "      <td>5.742247</td>\n",
       "    </tr>\n",
       "  </tbody>\n",
       "</table>\n",
       "<p>500 rows × 7 columns</p>\n",
       "</div>"
      ],
      "text/plain": [
       "                                                  Name  PredLasso    PredRF  \\\n",
       "194  To Take Washington: Jubal Early's Summer 1864 ...   7.692874  7.855165   \n",
       "449                   Vietnam: 1965-1975 (2nd edition)   7.475841  7.757145   \n",
       "138                   Legacy of Thracks: The Awakening   7.383316  7.770061   \n",
       "15                                        Wild Gardens   7.802215  7.120847   \n",
       "392                                          Periorbis   7.325933  7.732180   \n",
       "..                                                 ...        ...       ...   \n",
       "93                               Big Brother: The Game   5.892596  5.950126   \n",
       "114                                Rock Paper Scissors   5.868866  5.284767   \n",
       "424                                      Tilt'n Tumble   5.823522  5.990794   \n",
       "421                                            Biljard   5.607678  6.303566   \n",
       "451                                         Test Match   5.281132  5.416412   \n",
       "\n",
       "      PredKNN   PredSVM  OldRating   AvgPred  \n",
       "194  6.969739  7.142941    5.57647  7.415180  \n",
       "449  6.965150  7.142916    5.66859  7.335263  \n",
       "138  6.709580  7.180343    5.51825  7.260825  \n",
       "15   6.619307  7.435253    5.62107  7.244406  \n",
       "392  6.689146  7.126318    5.52659  7.218395  \n",
       "..        ...       ...        ...       ...  \n",
       "93   5.993004  5.848536    5.43686  5.921065  \n",
       "114  6.302632  6.150663    5.43849  5.901732  \n",
       "424  6.120579  5.656010    5.49995  5.897726  \n",
       "421  6.245016  5.433014    5.51144  5.897319  \n",
       "451  6.113336  6.158107    5.53063  5.742247  \n",
       "\n",
       "[500 rows x 7 columns]"
      ]
     },
     "execution_count": 72,
     "metadata": {},
     "output_type": "execute_result"
    }
   ],
   "source": [
    "predDF.sort_values(by='AvgPred', ascending=False)"
   ]
  },
  {
   "cell_type": "code",
   "execution_count": 73,
   "metadata": {},
   "outputs": [],
   "source": [
    "predDF.to_csv('SupervisedPredictions.csv', index=False)"
   ]
  },
  {
   "cell_type": "code",
   "execution_count": 75,
   "metadata": {},
   "outputs": [
    {
     "data": {
      "text/plain": [
       "array([7.3234752, 6.3608276, 6.0801131, 6.9168215, 7.0578009, 6.3679478,\n",
       "       7.0907546, 7.4626199, 6.4206601, 6.3960619, 6.3988188, 7.1489794,\n",
       "       6.7192623, 6.4111387, 6.267931 , 7.1208475, 6.8111282, 6.1559514,\n",
       "       6.8073826, 6.1796497, 6.7023312, 6.4299552, 6.3159919, 6.7121045,\n",
       "       6.0335206, 6.7231103, 6.53265  , 7.4504812, 6.7768655, 6.1200312,\n",
       "       6.4417803, 6.7833175, 6.7220828, 7.0577779, 6.7291494, 5.509995 ,\n",
       "       6.1306363, 7.5589469, 5.5063019, 7.2439717, 6.238817 , 6.4313539,\n",
       "       7.6795535, 6.4695581, 6.6284426, 7.1554396, 6.2099196, 6.3464155,\n",
       "       6.3246366, 6.0094095, 6.9178946, 6.2205036, 6.3672549, 6.2213291,\n",
       "       6.6743356, 5.5287635, 7.0199483, 6.3957223, 6.8032348, 7.509778 ,\n",
       "       6.9730809, 6.9553961, 6.4935495, 7.1702917, 7.1919309, 6.4263068,\n",
       "       5.8484535, 6.4317035, 6.1830575, 6.773607 , 6.7570857, 6.7107509,\n",
       "       6.1969249, 7.0483003, 6.1909978, 6.1765407, 6.3139695, 5.6258859,\n",
       "       6.8042025, 6.9454149, 6.9156688, 6.3298296, 6.6584141, 6.4223589,\n",
       "       6.7987639, 6.4117382, 5.4156878, 6.7337623, 7.100417 , 6.0296245,\n",
       "       6.6115239, 6.0875852, 6.4904058, 5.9501265, 6.0850624, 6.3000404,\n",
       "       6.0244762, 7.2552566, 7.1291539, 6.7375603, 6.7104869, 6.3635589,\n",
       "       6.5933127, 7.3021549, 6.5295156, 6.3852209, 7.2083162, 6.3764458,\n",
       "       6.2943686, 6.6952945, 6.3586494, 6.557269 , 6.7273447, 7.0031763,\n",
       "       5.2847669, 6.7886672, 6.6128127, 6.1864191, 6.6079676, 5.6006769,\n",
       "       6.0146748, 6.1609966, 7.092954 , 6.3980569, 6.2135007, 6.783343 ,\n",
       "       6.7494469, 7.2554221, 6.1356203, 7.0628473, 5.9731256, 7.6736212,\n",
       "       6.862982 , 6.2492556, 5.7489933, 6.3211269, 7.103595 , 5.8856551,\n",
       "       7.7700606, 7.0274675, 6.302054 , 6.2108679, 5.9382905, 6.7925404,\n",
       "       7.0478001, 7.2551161, 6.3368002, 6.1625911, 7.1564726, 6.2524745,\n",
       "       6.7828207, 6.4214159, 7.0454648, 6.1850195, 6.1406939, 5.9648375,\n",
       "       6.9566537, 6.5351446, 6.4683049, 6.7653847, 5.9169585, 7.0388199,\n",
       "       6.8515603, 6.1939044, 6.7617685, 7.4724843, 5.9175803, 7.0655774,\n",
       "       6.8542866, 6.7069531, 6.7298555, 6.8358545, 6.8292741, 5.9859133,\n",
       "       6.7804425, 6.6732539, 6.6809462, 6.797497 , 6.9313439, 6.414187 ,\n",
       "       5.3999757, 6.5912486, 6.5118887, 6.6461753, 6.3832136, 7.149488 ,\n",
       "       7.0405648, 6.52295  , 6.1668166, 6.686123 , 7.3974065, 6.8736935,\n",
       "       6.2238743, 6.3787507, 7.855165 , 6.5696387, 6.3175516, 6.7280709,\n",
       "       7.2630558, 6.3729488, 7.7694558, 7.1831595, 6.6990415, 6.0209784,\n",
       "       6.3737683, 5.8066582, 6.5633592, 6.8960438, 6.7065787, 6.3613552,\n",
       "       6.5176139, 6.5923108, 7.3878675, 5.7270215, 7.6266475, 7.1074903,\n",
       "       7.4043777, 6.5648713, 6.390173 , 6.3115535, 6.8260846, 6.3184527,\n",
       "       6.8785585, 6.3673691, 6.4804422, 6.392493 , 6.5112077, 6.6174085,\n",
       "       6.9157666, 6.600967 , 6.5287761, 6.8636453, 6.9255932, 6.1742462,\n",
       "       6.1328093, 6.3365556, 6.96938  , 6.4870459, 6.3609598, 6.5862836,\n",
       "       7.0227743, 5.423159 , 6.5838078, 6.8206548, 6.6264783, 5.9551834,\n",
       "       6.1199588, 6.9977321, 6.8210318, 7.0381092, 6.9258899, 6.3266306,\n",
       "       7.0034805, 6.241048 , 6.4297206, 6.7732083, 6.4710891, 6.0807996,\n",
       "       6.947087 , 6.4542356, 6.6821642, 6.8883821, 6.9856889, 6.838683 ,\n",
       "       6.1976288, 7.074236 , 6.3181788, 6.623519 , 6.7165307, 6.1155485,\n",
       "       6.3220357, 6.2383493, 6.0884183, 6.2213747, 6.1060906, 7.6491112,\n",
       "       6.7435181, 6.6906609, 6.2024316, 6.3478379, 6.9045558, 7.047516 ,\n",
       "       6.7776176, 7.0736031, 6.3862436, 6.2186692, 6.4748104, 6.4047178,\n",
       "       6.1592329, 6.3229391, 7.3130452, 6.5081653, 6.0038944, 7.1488997,\n",
       "       5.7600156, 7.1313971, 6.8498039, 6.7697248, 5.8013032, 6.7140822,\n",
       "       6.368345 , 6.9394718, 6.8866242, 6.8216956, 6.8423511, 7.4965372,\n",
       "       6.7032604, 6.4973566, 5.9492706, 6.3908103, 6.6791829, 7.140728 ,\n",
       "       7.008586 , 6.2479064, 6.5022318, 6.6892384, 6.5331893, 6.9024996,\n",
       "       6.8287507, 6.8206619, 7.2298447, 6.0980419, 6.1361238, 6.8737161,\n",
       "       6.9824812, 6.9746972, 6.0762084, 7.1604101, 6.7794118, 6.7996044,\n",
       "       6.9561329, 6.089357 , 5.8435327, 6.2207963, 6.9256861, 6.4769464,\n",
       "       6.5023581, 5.9825647, 6.4130974, 6.6850532, 6.9157943, 6.1777108,\n",
       "       7.3545023, 7.078665 , 6.7836056, 6.3729529, 6.279582 , 5.8630035,\n",
       "       6.5629455, 6.9692194, 6.1343588, 6.2697306, 6.3503018, 6.3899736,\n",
       "       6.3697874, 6.3650489, 6.1977234, 7.1060502, 6.5601942, 6.2885594,\n",
       "       7.0878731, 6.4945328, 6.996281 , 7.2132843, 6.8532097, 5.9566908,\n",
       "       7.1704818, 5.6429894, 6.0239172, 6.2724874, 6.9762117, 6.3013572,\n",
       "       7.064891 , 6.8948544, 6.3205437, 6.7078868, 6.8274143, 6.4415836,\n",
       "       6.7741955, 6.4051294, 6.7150642, 6.0593096, 7.1496421, 6.0404684,\n",
       "       7.0105886, 6.9233062, 5.9542447, 6.6170872, 6.3073834, 6.2562276,\n",
       "       7.4301787, 5.9623551, 7.7321805, 6.2902724, 6.2906878, 6.9836064,\n",
       "       6.6213496, 6.5481807, 6.4428733, 6.7798316, 7.0928006, 7.0024388,\n",
       "       6.2304456, 6.7981646, 6.3113893, 6.2501856, 7.0379073, 6.7917673,\n",
       "       6.6247193, 6.2546863, 7.3036611, 6.7544279, 6.2451927, 6.395798 ,\n",
       "       6.990945 , 6.4824471, 6.6850627, 6.364916 , 6.8924084, 6.8301404,\n",
       "       7.0130279, 6.3035664, 6.2784085, 7.1909789, 5.9907936, 6.3996955,\n",
       "       7.0241694, 7.2035835, 6.4475268, 6.8518011, 6.5345724, 6.6020279,\n",
       "       6.9221724, 6.2173147, 6.4577329, 6.3243953, 6.8769986, 6.2040219,\n",
       "       5.5388372, 5.8291286, 6.1537081, 6.3834224, 6.1984961, 5.6064055,\n",
       "       6.674276 , 6.436834 , 6.9257743, 6.3546557, 6.0015185, 7.7571452,\n",
       "       6.6197471, 5.4164121, 6.7218165, 6.0494468, 7.1156618, 6.0109961,\n",
       "       6.7912098, 6.3081617, 5.5323131, 6.7212663, 6.8586002, 6.00646  ,\n",
       "       6.3917045, 6.5637147, 6.6457024, 6.8565825, 7.2373058, 6.7179567,\n",
       "       6.9735357, 5.9068369, 6.8060438, 7.0462583, 6.4736286, 6.8862032,\n",
       "       6.761706 , 6.9396231, 6.0295033, 5.8235726, 5.6389062, 6.9293292,\n",
       "       6.5547789, 6.259147 , 6.9473423, 6.3688276, 6.1853641, 6.3297049,\n",
       "       6.0693695, 7.428828 , 7.05041  , 6.7926852, 6.4346574, 6.8815467,\n",
       "       5.6287245, 6.8265519, 6.564447 , 6.8630279, 6.5383957, 7.2297076,\n",
       "       6.680432 , 7.0532274])"
      ]
     },
     "execution_count": 75,
     "metadata": {},
     "output_type": "execute_result"
    }
   ],
   "source": [
    "predRF"
   ]
  }
 ],
 "metadata": {
  "kernelspec": {
   "display_name": "stat386",
   "language": "python",
   "name": "python3"
  },
  "language_info": {
   "codemirror_mode": {
    "name": "ipython",
    "version": 3
   },
   "file_extension": ".py",
   "mimetype": "text/x-python",
   "name": "python",
   "nbconvert_exporter": "python",
   "pygments_lexer": "ipython3",
   "version": "3.11.7"
  }
 },
 "nbformat": 4,
 "nbformat_minor": 2
}
