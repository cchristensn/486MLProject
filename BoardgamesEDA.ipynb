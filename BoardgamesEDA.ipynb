{
 "cells": [
  {
   "cell_type": "code",
   "execution_count": 1,
   "metadata": {},
   "outputs": [],
   "source": [
    "import pandas as pd\n",
    "import numpy as np\n",
    "import requests\n",
    "from bs4 import BeautifulSoup\n",
    "import re\n",
    "import time"
   ]
  },
  {
   "cell_type": "code",
   "execution_count": 2,
   "metadata": {},
   "outputs": [],
   "source": [
    "bgdfraw = pd.read_csv('boardgames_ranks.csv')"
   ]
  },
  {
   "cell_type": "code",
   "execution_count": 3,
   "metadata": {},
   "outputs": [],
   "source": [
    "bgdf = bgdfraw[bgdfraw['rank'] != 0]"
   ]
  },
  {
   "cell_type": "code",
   "execution_count": 4,
   "metadata": {},
   "outputs": [],
   "source": [
    "properdf = bgdf[np.abs(bgdf['bayesaverage']-bgdf['average']) <.4] # value chosen arbitrarily, based on gut intution.\n",
    "#used to check lowest usersrated\n",
    "properdf = properdf[properdf['usersrated']>2500] #Filterout number of usersrated that I think is too low\n",
    "\n",
    "unproperdf = bgdf[bgdf['usersrated']<150] #Get the games I want inference on, but 15000 games is too much for inference. Maybe random sample?\n",
    "unproperdf=unproperdf.sample(500)"
   ]
  },
  {
   "cell_type": "code",
   "execution_count": 5,
   "metadata": {},
   "outputs": [
    {
     "data": {
      "text/html": [
       "<div>\n",
       "<style scoped>\n",
       "    .dataframe tbody tr th:only-of-type {\n",
       "        vertical-align: middle;\n",
       "    }\n",
       "\n",
       "    .dataframe tbody tr th {\n",
       "        vertical-align: top;\n",
       "    }\n",
       "\n",
       "    .dataframe thead th {\n",
       "        text-align: right;\n",
       "    }\n",
       "</style>\n",
       "<table border=\"1\" class=\"dataframe\">\n",
       "  <thead>\n",
       "    <tr style=\"text-align: right;\">\n",
       "      <th></th>\n",
       "      <th>id</th>\n",
       "      <th>name</th>\n",
       "      <th>yearpublished</th>\n",
       "      <th>rank</th>\n",
       "      <th>bayesaverage</th>\n",
       "      <th>average</th>\n",
       "      <th>usersrated</th>\n",
       "      <th>is_expansion</th>\n",
       "      <th>abstracts_rank</th>\n",
       "      <th>cgs_rank</th>\n",
       "      <th>childrensgames_rank</th>\n",
       "      <th>familygames_rank</th>\n",
       "      <th>partygames_rank</th>\n",
       "      <th>strategygames_rank</th>\n",
       "      <th>thematic_rank</th>\n",
       "      <th>wargames_rank</th>\n",
       "    </tr>\n",
       "  </thead>\n",
       "  <tbody>\n",
       "    <tr>\n",
       "      <th>14562</th>\n",
       "      <td>275087</td>\n",
       "      <td>Auf der Walz</td>\n",
       "      <td>2019</td>\n",
       "      <td>14563</td>\n",
       "      <td>5.53297</td>\n",
       "      <td>6.41806</td>\n",
       "      <td>72</td>\n",
       "      <td>0</td>\n",
       "      <td>NaN</td>\n",
       "      <td>NaN</td>\n",
       "      <td>NaN</td>\n",
       "      <td>NaN</td>\n",
       "      <td>NaN</td>\n",
       "      <td>NaN</td>\n",
       "      <td>NaN</td>\n",
       "      <td>NaN</td>\n",
       "    </tr>\n",
       "    <tr>\n",
       "      <th>24735</th>\n",
       "      <td>220741</td>\n",
       "      <td>Yummy Yummy Pancake</td>\n",
       "      <td>2017</td>\n",
       "      <td>24736</td>\n",
       "      <td>5.48779</td>\n",
       "      <td>5.38184</td>\n",
       "      <td>129</td>\n",
       "      <td>0</td>\n",
       "      <td>NaN</td>\n",
       "      <td>NaN</td>\n",
       "      <td>NaN</td>\n",
       "      <td>NaN</td>\n",
       "      <td>NaN</td>\n",
       "      <td>NaN</td>\n",
       "      <td>NaN</td>\n",
       "      <td>NaN</td>\n",
       "    </tr>\n",
       "    <tr>\n",
       "      <th>16994</th>\n",
       "      <td>144993</td>\n",
       "      <td>Clusterfight!</td>\n",
       "      <td>2014</td>\n",
       "      <td>16995</td>\n",
       "      <td>5.52187</td>\n",
       "      <td>6.98953</td>\n",
       "      <td>43</td>\n",
       "      <td>0</td>\n",
       "      <td>NaN</td>\n",
       "      <td>NaN</td>\n",
       "      <td>NaN</td>\n",
       "      <td>NaN</td>\n",
       "      <td>666.0</td>\n",
       "      <td>NaN</td>\n",
       "      <td>NaN</td>\n",
       "      <td>NaN</td>\n",
       "    </tr>\n",
       "    <tr>\n",
       "      <th>22151</th>\n",
       "      <td>368898</td>\n",
       "      <td>Rhett &amp; Link's We're Still Good Game</td>\n",
       "      <td>2022</td>\n",
       "      <td>22152</td>\n",
       "      <td>5.50238</td>\n",
       "      <td>5.84000</td>\n",
       "      <td>35</td>\n",
       "      <td>0</td>\n",
       "      <td>NaN</td>\n",
       "      <td>NaN</td>\n",
       "      <td>NaN</td>\n",
       "      <td>NaN</td>\n",
       "      <td>NaN</td>\n",
       "      <td>NaN</td>\n",
       "      <td>NaN</td>\n",
       "      <td>NaN</td>\n",
       "    </tr>\n",
       "    <tr>\n",
       "      <th>8378</th>\n",
       "      <td>294113</td>\n",
       "      <td>Imperial Tide: The Great War 1914-1918</td>\n",
       "      <td>2022</td>\n",
       "      <td>8379</td>\n",
       "      <td>5.60447</td>\n",
       "      <td>7.91667</td>\n",
       "      <td>105</td>\n",
       "      <td>0</td>\n",
       "      <td>NaN</td>\n",
       "      <td>NaN</td>\n",
       "      <td>NaN</td>\n",
       "      <td>NaN</td>\n",
       "      <td>NaN</td>\n",
       "      <td>NaN</td>\n",
       "      <td>NaN</td>\n",
       "      <td>965.0</td>\n",
       "    </tr>\n",
       "    <tr>\n",
       "      <th>...</th>\n",
       "      <td>...</td>\n",
       "      <td>...</td>\n",
       "      <td>...</td>\n",
       "      <td>...</td>\n",
       "      <td>...</td>\n",
       "      <td>...</td>\n",
       "      <td>...</td>\n",
       "      <td>...</td>\n",
       "      <td>...</td>\n",
       "      <td>...</td>\n",
       "      <td>...</td>\n",
       "      <td>...</td>\n",
       "      <td>...</td>\n",
       "      <td>...</td>\n",
       "      <td>...</td>\n",
       "      <td>...</td>\n",
       "    </tr>\n",
       "    <tr>\n",
       "      <th>16878</th>\n",
       "      <td>382801</td>\n",
       "      <td>Grass is Greener</td>\n",
       "      <td>2023</td>\n",
       "      <td>16879</td>\n",
       "      <td>5.52244</td>\n",
       "      <td>7.40429</td>\n",
       "      <td>70</td>\n",
       "      <td>0</td>\n",
       "      <td>NaN</td>\n",
       "      <td>NaN</td>\n",
       "      <td>NaN</td>\n",
       "      <td>NaN</td>\n",
       "      <td>NaN</td>\n",
       "      <td>NaN</td>\n",
       "      <td>NaN</td>\n",
       "      <td>NaN</td>\n",
       "    </tr>\n",
       "    <tr>\n",
       "      <th>25542</th>\n",
       "      <td>146596</td>\n",
       "      <td>Logo Party</td>\n",
       "      <td>2013</td>\n",
       "      <td>25543</td>\n",
       "      <td>5.47962</td>\n",
       "      <td>5.17323</td>\n",
       "      <td>130</td>\n",
       "      <td>0</td>\n",
       "      <td>NaN</td>\n",
       "      <td>NaN</td>\n",
       "      <td>NaN</td>\n",
       "      <td>NaN</td>\n",
       "      <td>NaN</td>\n",
       "      <td>NaN</td>\n",
       "      <td>NaN</td>\n",
       "      <td>NaN</td>\n",
       "    </tr>\n",
       "    <tr>\n",
       "      <th>17208</th>\n",
       "      <td>123689</td>\n",
       "      <td>Fornovo 1495: Dawn of the Italian Wars, 1495-1525</td>\n",
       "      <td>2016</td>\n",
       "      <td>17209</td>\n",
       "      <td>5.52102</td>\n",
       "      <td>6.98158</td>\n",
       "      <td>38</td>\n",
       "      <td>0</td>\n",
       "      <td>NaN</td>\n",
       "      <td>NaN</td>\n",
       "      <td>NaN</td>\n",
       "      <td>NaN</td>\n",
       "      <td>NaN</td>\n",
       "      <td>NaN</td>\n",
       "      <td>NaN</td>\n",
       "      <td>2962.0</td>\n",
       "    </tr>\n",
       "    <tr>\n",
       "      <th>12288</th>\n",
       "      <td>1066</td>\n",
       "      <td>Zargos</td>\n",
       "      <td>1990</td>\n",
       "      <td>12289</td>\n",
       "      <td>5.54864</td>\n",
       "      <td>6.34558</td>\n",
       "      <td>147</td>\n",
       "      <td>0</td>\n",
       "      <td>NaN</td>\n",
       "      <td>NaN</td>\n",
       "      <td>NaN</td>\n",
       "      <td>NaN</td>\n",
       "      <td>NaN</td>\n",
       "      <td>NaN</td>\n",
       "      <td>NaN</td>\n",
       "      <td>NaN</td>\n",
       "    </tr>\n",
       "    <tr>\n",
       "      <th>13794</th>\n",
       "      <td>220843</td>\n",
       "      <td>Overworld</td>\n",
       "      <td>2019</td>\n",
       "      <td>13795</td>\n",
       "      <td>5.53735</td>\n",
       "      <td>6.49372</td>\n",
       "      <td>94</td>\n",
       "      <td>0</td>\n",
       "      <td>NaN</td>\n",
       "      <td>NaN</td>\n",
       "      <td>NaN</td>\n",
       "      <td>NaN</td>\n",
       "      <td>NaN</td>\n",
       "      <td>NaN</td>\n",
       "      <td>NaN</td>\n",
       "      <td>NaN</td>\n",
       "    </tr>\n",
       "  </tbody>\n",
       "</table>\n",
       "<p>500 rows × 16 columns</p>\n",
       "</div>"
      ],
      "text/plain": [
       "           id                                               name  \\\n",
       "14562  275087                                       Auf der Walz   \n",
       "24735  220741                                Yummy Yummy Pancake   \n",
       "16994  144993                                      Clusterfight!   \n",
       "22151  368898               Rhett & Link's We're Still Good Game   \n",
       "8378   294113             Imperial Tide: The Great War 1914-1918   \n",
       "...       ...                                                ...   \n",
       "16878  382801                                   Grass is Greener   \n",
       "25542  146596                                         Logo Party   \n",
       "17208  123689  Fornovo 1495: Dawn of the Italian Wars, 1495-1525   \n",
       "12288    1066                                             Zargos   \n",
       "13794  220843                                          Overworld   \n",
       "\n",
       "       yearpublished   rank  bayesaverage  average  usersrated  is_expansion  \\\n",
       "14562           2019  14563       5.53297  6.41806          72             0   \n",
       "24735           2017  24736       5.48779  5.38184         129             0   \n",
       "16994           2014  16995       5.52187  6.98953          43             0   \n",
       "22151           2022  22152       5.50238  5.84000          35             0   \n",
       "8378            2022   8379       5.60447  7.91667         105             0   \n",
       "...              ...    ...           ...      ...         ...           ...   \n",
       "16878           2023  16879       5.52244  7.40429          70             0   \n",
       "25542           2013  25543       5.47962  5.17323         130             0   \n",
       "17208           2016  17209       5.52102  6.98158          38             0   \n",
       "12288           1990  12289       5.54864  6.34558         147             0   \n",
       "13794           2019  13795       5.53735  6.49372          94             0   \n",
       "\n",
       "       abstracts_rank  cgs_rank  childrensgames_rank  familygames_rank  \\\n",
       "14562             NaN       NaN                  NaN               NaN   \n",
       "24735             NaN       NaN                  NaN               NaN   \n",
       "16994             NaN       NaN                  NaN               NaN   \n",
       "22151             NaN       NaN                  NaN               NaN   \n",
       "8378              NaN       NaN                  NaN               NaN   \n",
       "...               ...       ...                  ...               ...   \n",
       "16878             NaN       NaN                  NaN               NaN   \n",
       "25542             NaN       NaN                  NaN               NaN   \n",
       "17208             NaN       NaN                  NaN               NaN   \n",
       "12288             NaN       NaN                  NaN               NaN   \n",
       "13794             NaN       NaN                  NaN               NaN   \n",
       "\n",
       "       partygames_rank  strategygames_rank  thematic_rank  wargames_rank  \n",
       "14562              NaN                 NaN            NaN            NaN  \n",
       "24735              NaN                 NaN            NaN            NaN  \n",
       "16994            666.0                 NaN            NaN            NaN  \n",
       "22151              NaN                 NaN            NaN            NaN  \n",
       "8378               NaN                 NaN            NaN          965.0  \n",
       "...                ...                 ...            ...            ...  \n",
       "16878              NaN                 NaN            NaN            NaN  \n",
       "25542              NaN                 NaN            NaN            NaN  \n",
       "17208              NaN                 NaN            NaN         2962.0  \n",
       "12288              NaN                 NaN            NaN            NaN  \n",
       "13794              NaN                 NaN            NaN            NaN  \n",
       "\n",
       "[500 rows x 16 columns]"
      ]
     },
     "execution_count": 5,
     "metadata": {},
     "output_type": "execute_result"
    }
   ],
   "source": [
    "unproperdf"
   ]
  },
  {
   "cell_type": "code",
   "execution_count": 9,
   "metadata": {},
   "outputs": [],
   "source": [
    "gameIds= properdf['id']"
   ]
  },
  {
   "cell_type": "code",
   "execution_count": 6,
   "metadata": {},
   "outputs": [],
   "source": [
    "gameIdsUnp = unproperdf['id']"
   ]
  },
  {
   "cell_type": "code",
   "execution_count": 7,
   "metadata": {},
   "outputs": [],
   "source": [
    "#API init\n",
    "rootpath = 'https://boardgamegeek.com/xmlapi2/'\n",
    "gamepath = 'thing/'"
   ]
  },
  {
   "cell_type": "markdown",
   "metadata": {},
   "source": [
    "## This section is mostly testing"
   ]
  },
  {
   "cell_type": "code",
   "execution_count": 10,
   "metadata": {},
   "outputs": [],
   "source": [
    "ids = gameIds[760:].to_list()\n",
    "ids  = ','.join(map(str, ids)) "
   ]
  },
  {
   "cell_type": "code",
   "execution_count": 11,
   "metadata": {},
   "outputs": [],
   "source": [
    "gameparameters={'id':ids,\n",
    "                'stats': 1}\n",
    "r=requests.get(rootpath+gamepath, params= gameparameters)"
   ]
  },
  {
   "cell_type": "code",
   "execution_count": 12,
   "metadata": {},
   "outputs": [],
   "source": [
    "soup = BeautifulSoup(r.text, features='xml')"
   ]
  },
  {
   "cell_type": "code",
   "execution_count": 13,
   "metadata": {},
   "outputs": [
    {
     "data": {
      "text/plain": [
       "'2'"
      ]
     },
     "execution_count": 13,
     "metadata": {},
     "output_type": "execute_result"
    }
   ],
   "source": [
    "soup.find_all('minplayers')[0]['value']"
   ]
  },
  {
   "cell_type": "markdown",
   "metadata": {},
   "source": [
    "# Create funcs used for my search"
   ]
  },
  {
   "cell_type": "code",
   "execution_count": 8,
   "metadata": {},
   "outputs": [],
   "source": [
    "def get_descs(soup):\n",
    "    descs = soup.find_all('description')\n",
    "    descs = [item.get_text() for item in descs]\n",
    "    return descs\n",
    "\n",
    "def get_minplayer(soup):\n",
    "    minplayers = soup.find_all('minplayers')\n",
    "    minplayers = [item['value'] for item in minplayers]\n",
    "    return minplayers\n",
    "    \n",
    "def get_maxplayer(soup):\n",
    "    maxplayers = soup.find_all('maxplayers')\n",
    "    maxplayers = [item['value'] for item in maxplayers]\n",
    "    return maxplayers\n",
    "##Reusing som code here, I don't want to change the names\n",
    "def get_minplaytime(soup):\n",
    "    minplayers = soup.find_all('minplaytime')\n",
    "    minplayers = [item['value'] for item in minplayers]\n",
    "    return minplayers\n",
    "    \n",
    "def get_maxplaytime(soup):\n",
    "    maxplayers = soup.find_all('maxplaytime')\n",
    "    maxplayers = [item['value'] for item in maxplayers]\n",
    "    return maxplayers\n",
    "\n",
    "def get_avgplaytime(soup):\n",
    "    maxplayers = soup.find_all('playingtime')\n",
    "    maxplayers = [item['value'] for item in maxplayers]\n",
    "    return maxplayers\n",
    "\n",
    "def get_cats(soup):\n",
    "    items = soup.find_all('item')\n",
    "    cats = []\n",
    "    for item in items:\n",
    "        itemtype = item.find_all('link', {'type':'boardgamecategory'})\n",
    "        itemtype = [cat['value'] for cat in itemtype]\n",
    "        cats += [itemtype]\n",
    "\n",
    "    return cats\n",
    "\n",
    "def get_mechs(soup):\n",
    "    items = soup.find_all('item')\n",
    "    mechs = []\n",
    "    for item in items:\n",
    "        itemtype = item.find_all('link', {'type':'boardgamemechanic'})\n",
    "        itemtype = [mech['value'] for mech in itemtype]\n",
    "        mechs += [itemtype]\n",
    "\n",
    "    return mechs\n",
    "\n",
    "def get_minage(soup):\n",
    "    minages = soup.find_all('minage')\n",
    "    minages = [item['value'] for item in minages]\n",
    "    return minages\n",
    "\n",
    "def get_complexities(soup):\n",
    "    weights = soup.find_all('averageweight')\n",
    "    weights = [item['value'] for item in weights]\n",
    "    return weights\n"
   ]
  },
  {
   "cell_type": "code",
   "execution_count": 190,
   "metadata": {},
   "outputs": [
    {
     "data": {
      "text/plain": [
       "[]"
      ]
     },
     "execution_count": 190,
     "metadata": {},
     "output_type": "execute_result"
    }
   ],
   "source": [
    "get_avgplaytime(soup)"
   ]
  },
  {
   "cell_type": "code",
   "execution_count": 189,
   "metadata": {},
   "outputs": [
    {
     "data": {
      "text/plain": [
       "[<averageweight value=\"1.1624\"/>,\n",
       " <averageweight value=\"1.113\"/>,\n",
       " <averageweight value=\"1.1715\"/>,\n",
       " <averageweight value=\"1.6212\"/>]"
      ]
     },
     "execution_count": 189,
     "metadata": {},
     "output_type": "execute_result"
    }
   ],
   "source": [
    "soup.find_all('averageweight')"
   ]
  },
  {
   "cell_type": "code",
   "execution_count": 15,
   "metadata": {},
   "outputs": [],
   "source": [
    "import numpy as np"
   ]
  },
  {
   "cell_type": "code",
   "execution_count": 16,
   "metadata": {},
   "outputs": [],
   "source": [
    "#This one doesn't work\n",
    "def get_bestplayer(soup):\n",
    "    playerpolls = soup.find_all('poll', {'name':'suggested_numplayers'})\n",
    "    bestplayers = []\n",
    "    for poll in playerpolls:\n",
    "        results = poll.find_all('results')\n",
    "        counts=[]\n",
    "        votes = []\n",
    "        for result in results:\n",
    "            counts += [result['numplayers']]\n",
    "            votes += [result.find_all('result', {'value':'Best'})[0]['numvotes']]\n",
    "        index_max = np.argmax(votes)\n",
    "        bestplayers +=[counts[index_max]]\n",
    "    \n",
    "    return bestplayers\n",
    "\n",
    "        "
   ]
  },
  {
   "cell_type": "code",
   "execution_count": 180,
   "metadata": {},
   "outputs": [
    {
     "data": {
      "text/plain": [
       "[]"
      ]
     },
     "execution_count": 180,
     "metadata": {},
     "output_type": "execute_result"
    }
   ],
   "source": [
    "get_complexities(soup)"
   ]
  },
  {
   "cell_type": "code",
   "execution_count": 152,
   "metadata": {},
   "outputs": [
    {
     "data": {
      "text/plain": [
       "2"
      ]
     },
     "execution_count": 152,
     "metadata": {},
     "output_type": "execute_result"
    }
   ],
   "source": [
    "np.argmax([0,1,4,3])"
   ]
  },
  {
   "cell_type": "code",
   "execution_count": 138,
   "metadata": {},
   "outputs": [
    {
     "data": {
      "text/plain": [
       "'1'"
      ]
     },
     "execution_count": 138,
     "metadata": {},
     "output_type": "execute_result"
    }
   ],
   "source": [
    "soup.find_all('poll', {'name':'suggested_numplayers'})[0].find_all('results')[0]['numplayers']"
   ]
  },
  {
   "cell_type": "code",
   "execution_count": 140,
   "metadata": {},
   "outputs": [
    {
     "data": {
      "text/plain": [
       "'0'"
      ]
     },
     "execution_count": 140,
     "metadata": {},
     "output_type": "execute_result"
    }
   ],
   "source": [
    "soup.find_all('poll', {'name':'suggested_numplayers'})[0].find_all('results')[0].find_all('result', {'value':'Best'})[0]['numvotes']"
   ]
  },
  {
   "cell_type": "markdown",
   "metadata": {},
   "source": [
    "### Big ol search for all I need, hopfully no errors"
   ]
  },
  {
   "cell_type": "code",
   "execution_count": 17,
   "metadata": {},
   "outputs": [],
   "source": [
    "descs = []\n",
    "minplayers = []\n",
    "maxplayers = []\n",
    "avgplaytime =[]\n",
    "minplaytime = []\n",
    "maxplaytime = []\n",
    "cats = []\n",
    "mechs = []\n",
    "minage = []\n",
    "complexities = []\n",
    "for i in range(0,len(gameIdsUnp),20):#Make jumps in index 20 at a time\n",
    "    if i == 760:\n",
    "        ids = gameIdsUnp[i:].to_list()\n",
    "        ids  = ','.join(map(str, ids))\n",
    "    else:\n",
    "        ids = gameIdsUnp[i:i+20].to_list() # Get ids 20 at a time\n",
    "        ids  = ','.join(map(str, ids))\n",
    "    \n",
    "    gameparameters={'id':ids,\n",
    "                    'stats':1}\n",
    "    r=requests.get(rootpath+gamepath, params= gameparameters)\n",
    "    if r.status_code!=200:  # make sure I'm not banned or somthing\n",
    "        time.sleep(30)\n",
    "        r=requests.get(rootpath+gamepath, params= gameparameters)\n",
    "        if r.status_code!=200:\n",
    "            print(f\"Error Code:{r.status_code}, iteration:{i}\")\n",
    "            break\n",
    "    \n",
    "    soup = BeautifulSoup(r.text, features='xml') \n",
    "    descs += get_descs(soup)\n",
    "    minplayers += get_minplayer(soup)\n",
    "    maxplayers += get_maxplayer(soup)\n",
    "    avgplaytime += get_avgplaytime(soup)\n",
    "    minplaytime += get_minplaytime(soup)\n",
    "    maxplaytime += get_maxplaytime(soup)\n",
    "    cats += get_cats(soup)\n",
    "    mechs += get_mechs(soup)\n",
    "    minage += get_minage(soup)\n",
    "    complexities += get_complexities(soup)\n",
    "\n",
    "    time.sleep(5)\n"
   ]
  },
  {
   "cell_type": "markdown",
   "metadata": {},
   "source": [
    "AVG playtime and complexities broken"
   ]
  },
  {
   "cell_type": "code",
   "execution_count": 197,
   "metadata": {},
   "outputs": [
    {
     "data": {
      "text/plain": [
       "764"
      ]
     },
     "execution_count": 197,
     "metadata": {},
     "output_type": "execute_result"
    }
   ],
   "source": [
    "len(avgplaytime)"
   ]
  },
  {
   "cell_type": "code",
   "execution_count": 18,
   "metadata": {},
   "outputs": [],
   "source": [
    "testingdata = unproperdf[['id','name','yearpublished', 'bayesaverage']]"
   ]
  },
  {
   "cell_type": "code",
   "execution_count": 155,
   "metadata": {},
   "outputs": [],
   "source": [
    "trainingdata = properdf[['id','name','yearpublished', 'bayesaverage']]"
   ]
  },
  {
   "cell_type": "code",
   "execution_count": 19,
   "metadata": {},
   "outputs": [
    {
     "name": "stderr",
     "output_type": "stream",
     "text": [
      "C:\\Users\\caleb\\AppData\\Local\\Temp\\ipykernel_19800\\548426073.py:1: SettingWithCopyWarning: \n",
      "A value is trying to be set on a copy of a slice from a DataFrame.\n",
      "Try using .loc[row_indexer,col_indexer] = value instead\n",
      "\n",
      "See the caveats in the documentation: https://pandas.pydata.org/pandas-docs/stable/user_guide/indexing.html#returning-a-view-versus-a-copy\n",
      "  testingdata['avgplaytime']=avgplaytime\n",
      "C:\\Users\\caleb\\AppData\\Local\\Temp\\ipykernel_19800\\548426073.py:2: SettingWithCopyWarning: \n",
      "A value is trying to be set on a copy of a slice from a DataFrame.\n",
      "Try using .loc[row_indexer,col_indexer] = value instead\n",
      "\n",
      "See the caveats in the documentation: https://pandas.pydata.org/pandas-docs/stable/user_guide/indexing.html#returning-a-view-versus-a-copy\n",
      "  testingdata['complexity']=complexities\n"
     ]
    }
   ],
   "source": [
    "testingdata['avgplaytime']=avgplaytime\n",
    "testingdata['complexity']=complexities"
   ]
  },
  {
   "cell_type": "code",
   "execution_count": 198,
   "metadata": {},
   "outputs": [
    {
     "name": "stderr",
     "output_type": "stream",
     "text": [
      "C:\\Users\\caleb\\AppData\\Local\\Temp\\ipykernel_6516\\3746555790.py:1: SettingWithCopyWarning: \n",
      "A value is trying to be set on a copy of a slice from a DataFrame.\n",
      "Try using .loc[row_indexer,col_indexer] = value instead\n",
      "\n",
      "See the caveats in the documentation: https://pandas.pydata.org/pandas-docs/stable/user_guide/indexing.html#returning-a-view-versus-a-copy\n",
      "  trainingdata['avgplaytime']=avgplaytime\n",
      "C:\\Users\\caleb\\AppData\\Local\\Temp\\ipykernel_6516\\3746555790.py:2: SettingWithCopyWarning: \n",
      "A value is trying to be set on a copy of a slice from a DataFrame.\n",
      "Try using .loc[row_indexer,col_indexer] = value instead\n",
      "\n",
      "See the caveats in the documentation: https://pandas.pydata.org/pandas-docs/stable/user_guide/indexing.html#returning-a-view-versus-a-copy\n",
      "  trainingdata['complexity']=complexities\n"
     ]
    }
   ],
   "source": [
    "trainingdata['avgplaytime']=avgplaytime\n",
    "trainingdata['complexity']=complexities"
   ]
  },
  {
   "cell_type": "code",
   "execution_count": 20,
   "metadata": {},
   "outputs": [
    {
     "name": "stderr",
     "output_type": "stream",
     "text": [
      "C:\\Users\\caleb\\AppData\\Local\\Temp\\ipykernel_19800\\378545387.py:1: SettingWithCopyWarning: \n",
      "A value is trying to be set on a copy of a slice from a DataFrame.\n",
      "Try using .loc[row_indexer,col_indexer] = value instead\n",
      "\n",
      "See the caveats in the documentation: https://pandas.pydata.org/pandas-docs/stable/user_guide/indexing.html#returning-a-view-versus-a-copy\n",
      "  testingdata['descriptions']=descs\n",
      "C:\\Users\\caleb\\AppData\\Local\\Temp\\ipykernel_19800\\378545387.py:2: SettingWithCopyWarning: \n",
      "A value is trying to be set on a copy of a slice from a DataFrame.\n",
      "Try using .loc[row_indexer,col_indexer] = value instead\n",
      "\n",
      "See the caveats in the documentation: https://pandas.pydata.org/pandas-docs/stable/user_guide/indexing.html#returning-a-view-versus-a-copy\n",
      "  testingdata['minplayers']=minplayers\n",
      "C:\\Users\\caleb\\AppData\\Local\\Temp\\ipykernel_19800\\378545387.py:3: SettingWithCopyWarning: \n",
      "A value is trying to be set on a copy of a slice from a DataFrame.\n",
      "Try using .loc[row_indexer,col_indexer] = value instead\n",
      "\n",
      "See the caveats in the documentation: https://pandas.pydata.org/pandas-docs/stable/user_guide/indexing.html#returning-a-view-versus-a-copy\n",
      "  testingdata['maxplayers']=maxplayers\n",
      "C:\\Users\\caleb\\AppData\\Local\\Temp\\ipykernel_19800\\378545387.py:4: SettingWithCopyWarning: \n",
      "A value is trying to be set on a copy of a slice from a DataFrame.\n",
      "Try using .loc[row_indexer,col_indexer] = value instead\n",
      "\n",
      "See the caveats in the documentation: https://pandas.pydata.org/pandas-docs/stable/user_guide/indexing.html#returning-a-view-versus-a-copy\n",
      "  testingdata['minplaytime']=minplaytime\n",
      "C:\\Users\\caleb\\AppData\\Local\\Temp\\ipykernel_19800\\378545387.py:5: SettingWithCopyWarning: \n",
      "A value is trying to be set on a copy of a slice from a DataFrame.\n",
      "Try using .loc[row_indexer,col_indexer] = value instead\n",
      "\n",
      "See the caveats in the documentation: https://pandas.pydata.org/pandas-docs/stable/user_guide/indexing.html#returning-a-view-versus-a-copy\n",
      "  testingdata['maxplaytime']=maxplaytime\n",
      "C:\\Users\\caleb\\AppData\\Local\\Temp\\ipykernel_19800\\378545387.py:6: SettingWithCopyWarning: \n",
      "A value is trying to be set on a copy of a slice from a DataFrame.\n",
      "Try using .loc[row_indexer,col_indexer] = value instead\n",
      "\n",
      "See the caveats in the documentation: https://pandas.pydata.org/pandas-docs/stable/user_guide/indexing.html#returning-a-view-versus-a-copy\n",
      "  testingdata['categories']=cats\n",
      "C:\\Users\\caleb\\AppData\\Local\\Temp\\ipykernel_19800\\378545387.py:7: SettingWithCopyWarning: \n",
      "A value is trying to be set on a copy of a slice from a DataFrame.\n",
      "Try using .loc[row_indexer,col_indexer] = value instead\n",
      "\n",
      "See the caveats in the documentation: https://pandas.pydata.org/pandas-docs/stable/user_guide/indexing.html#returning-a-view-versus-a-copy\n",
      "  testingdata['mechanics']=mechs\n",
      "C:\\Users\\caleb\\AppData\\Local\\Temp\\ipykernel_19800\\378545387.py:8: SettingWithCopyWarning: \n",
      "A value is trying to be set on a copy of a slice from a DataFrame.\n",
      "Try using .loc[row_indexer,col_indexer] = value instead\n",
      "\n",
      "See the caveats in the documentation: https://pandas.pydata.org/pandas-docs/stable/user_guide/indexing.html#returning-a-view-versus-a-copy\n",
      "  testingdata['minage']=minage\n"
     ]
    }
   ],
   "source": [
    "testingdata['descriptions']=descs\n",
    "testingdata['minplayers']=minplayers\n",
    "testingdata['maxplayers']=maxplayers\n",
    "testingdata['minplaytime']=minplaytime\n",
    "testingdata['maxplaytime']=maxplaytime\n",
    "testingdata['categories']=cats\n",
    "testingdata['mechanics']=mechs\n",
    "testingdata['minage']=minage"
   ]
  },
  {
   "cell_type": "code",
   "execution_count": 177,
   "metadata": {},
   "outputs": [
    {
     "name": "stderr",
     "output_type": "stream",
     "text": [
      "C:\\Users\\caleb\\AppData\\Local\\Temp\\ipykernel_6516\\1656319451.py:1: SettingWithCopyWarning: \n",
      "A value is trying to be set on a copy of a slice from a DataFrame.\n",
      "Try using .loc[row_indexer,col_indexer] = value instead\n",
      "\n",
      "See the caveats in the documentation: https://pandas.pydata.org/pandas-docs/stable/user_guide/indexing.html#returning-a-view-versus-a-copy\n",
      "  trainingdata['descriptions']=descs\n",
      "C:\\Users\\caleb\\AppData\\Local\\Temp\\ipykernel_6516\\1656319451.py:2: SettingWithCopyWarning: \n",
      "A value is trying to be set on a copy of a slice from a DataFrame.\n",
      "Try using .loc[row_indexer,col_indexer] = value instead\n",
      "\n",
      "See the caveats in the documentation: https://pandas.pydata.org/pandas-docs/stable/user_guide/indexing.html#returning-a-view-versus-a-copy\n",
      "  trainingdata['minplayers']=minplayers\n",
      "C:\\Users\\caleb\\AppData\\Local\\Temp\\ipykernel_6516\\1656319451.py:3: SettingWithCopyWarning: \n",
      "A value is trying to be set on a copy of a slice from a DataFrame.\n",
      "Try using .loc[row_indexer,col_indexer] = value instead\n",
      "\n",
      "See the caveats in the documentation: https://pandas.pydata.org/pandas-docs/stable/user_guide/indexing.html#returning-a-view-versus-a-copy\n",
      "  trainingdata['maxplayers']=maxplayers\n",
      "C:\\Users\\caleb\\AppData\\Local\\Temp\\ipykernel_6516\\1656319451.py:4: SettingWithCopyWarning: \n",
      "A value is trying to be set on a copy of a slice from a DataFrame.\n",
      "Try using .loc[row_indexer,col_indexer] = value instead\n",
      "\n",
      "See the caveats in the documentation: https://pandas.pydata.org/pandas-docs/stable/user_guide/indexing.html#returning-a-view-versus-a-copy\n",
      "  trainingdata['minplaytime']=minplaytime\n",
      "C:\\Users\\caleb\\AppData\\Local\\Temp\\ipykernel_6516\\1656319451.py:5: SettingWithCopyWarning: \n",
      "A value is trying to be set on a copy of a slice from a DataFrame.\n",
      "Try using .loc[row_indexer,col_indexer] = value instead\n",
      "\n",
      "See the caveats in the documentation: https://pandas.pydata.org/pandas-docs/stable/user_guide/indexing.html#returning-a-view-versus-a-copy\n",
      "  trainingdata['maxplaytime']=maxplaytime\n",
      "C:\\Users\\caleb\\AppData\\Local\\Temp\\ipykernel_6516\\1656319451.py:6: SettingWithCopyWarning: \n",
      "A value is trying to be set on a copy of a slice from a DataFrame.\n",
      "Try using .loc[row_indexer,col_indexer] = value instead\n",
      "\n",
      "See the caveats in the documentation: https://pandas.pydata.org/pandas-docs/stable/user_guide/indexing.html#returning-a-view-versus-a-copy\n",
      "  trainingdata['categories']=cats\n",
      "C:\\Users\\caleb\\AppData\\Local\\Temp\\ipykernel_6516\\1656319451.py:7: SettingWithCopyWarning: \n",
      "A value is trying to be set on a copy of a slice from a DataFrame.\n",
      "Try using .loc[row_indexer,col_indexer] = value instead\n",
      "\n",
      "See the caveats in the documentation: https://pandas.pydata.org/pandas-docs/stable/user_guide/indexing.html#returning-a-view-versus-a-copy\n",
      "  trainingdata['mechanics']=mechs\n",
      "C:\\Users\\caleb\\AppData\\Local\\Temp\\ipykernel_6516\\1656319451.py:8: SettingWithCopyWarning: \n",
      "A value is trying to be set on a copy of a slice from a DataFrame.\n",
      "Try using .loc[row_indexer,col_indexer] = value instead\n",
      "\n",
      "See the caveats in the documentation: https://pandas.pydata.org/pandas-docs/stable/user_guide/indexing.html#returning-a-view-versus-a-copy\n",
      "  trainingdata['minage']=minage\n"
     ]
    }
   ],
   "source": [
    "trainingdata['descriptions']=descs\n",
    "trainingdata['minplayers']=minplayers\n",
    "trainingdata['maxplayers']=maxplayers\n",
    "trainingdata['minplaytime']=minplaytime\n",
    "trainingdata['maxplaytime']=maxplaytime\n",
    "trainingdata['categories']=cats\n",
    "trainingdata['mechanics']=mechs\n",
    "trainingdata['minage']=minage\n"
   ]
  },
  {
   "cell_type": "code",
   "execution_count": 21,
   "metadata": {},
   "outputs": [
    {
     "name": "stderr",
     "output_type": "stream",
     "text": [
      "C:\\Users\\caleb\\AppData\\Local\\Temp\\ipykernel_19800\\3784819446.py:1: SettingWithCopyWarning: \n",
      "A value is trying to be set on a copy of a slice from a DataFrame.\n",
      "Try using .loc[row_indexer,col_indexer] = value instead\n",
      "\n",
      "See the caveats in the documentation: https://pandas.pydata.org/pandas-docs/stable/user_guide/indexing.html#returning-a-view-versus-a-copy\n",
      "  testingdata[['minplayers','maxplayers','minplaytime','maxplaytime','minage','avgplaytime','complexity']] = testingdata[['minplayers','maxplayers','minplaytime','maxplaytime','minage','avgplaytime','complexity']].apply(pd.to_numeric)\n"
     ]
    }
   ],
   "source": [
    "testingdata[['minplayers','maxplayers','minplaytime','maxplaytime','minage','avgplaytime','complexity']] = testingdata[['minplayers','maxplayers','minplaytime','maxplaytime','minage','avgplaytime','complexity']].apply(pd.to_numeric)"
   ]
  },
  {
   "cell_type": "code",
   "execution_count": 221,
   "metadata": {},
   "outputs": [
    {
     "name": "stderr",
     "output_type": "stream",
     "text": [
      "C:\\Users\\caleb\\AppData\\Local\\Temp\\ipykernel_6516\\1658402947.py:1: SettingWithCopyWarning: \n",
      "A value is trying to be set on a copy of a slice from a DataFrame.\n",
      "Try using .loc[row_indexer,col_indexer] = value instead\n",
      "\n",
      "See the caveats in the documentation: https://pandas.pydata.org/pandas-docs/stable/user_guide/indexing.html#returning-a-view-versus-a-copy\n",
      "  trainingdata[['minplayers','maxplayers','minplaytime','maxplaytime','minage','avgplaytime','complexity']] = trainingdata[['minplayers','maxplayers','minplaytime','maxplaytime','minage','avgplaytime','complexity']].apply(pd.to_numeric)\n"
     ]
    }
   ],
   "source": [
    "trainingdata[['minplayers','maxplayers','minplaytime','maxplaytime','minage','avgplaytime','complexity']] = trainingdata[['minplayers','maxplayers','minplaytime','maxplaytime','minage','avgplaytime','complexity']].apply(pd.to_numeric)"
   ]
  },
  {
   "cell_type": "code",
   "execution_count": 22,
   "metadata": {},
   "outputs": [
    {
     "data": {
      "text/html": [
       "<div>\n",
       "<style scoped>\n",
       "    .dataframe tbody tr th:only-of-type {\n",
       "        vertical-align: middle;\n",
       "    }\n",
       "\n",
       "    .dataframe tbody tr th {\n",
       "        vertical-align: top;\n",
       "    }\n",
       "\n",
       "    .dataframe thead th {\n",
       "        text-align: right;\n",
       "    }\n",
       "</style>\n",
       "<table border=\"1\" class=\"dataframe\">\n",
       "  <thead>\n",
       "    <tr style=\"text-align: right;\">\n",
       "      <th></th>\n",
       "      <th>id</th>\n",
       "      <th>name</th>\n",
       "      <th>yearpublished</th>\n",
       "      <th>bayesaverage</th>\n",
       "      <th>avgplaytime</th>\n",
       "      <th>complexity</th>\n",
       "      <th>descriptions</th>\n",
       "      <th>minplayers</th>\n",
       "      <th>maxplayers</th>\n",
       "      <th>minplaytime</th>\n",
       "      <th>maxplaytime</th>\n",
       "      <th>categories</th>\n",
       "      <th>mechanics</th>\n",
       "      <th>minage</th>\n",
       "    </tr>\n",
       "  </thead>\n",
       "  <tbody>\n",
       "    <tr>\n",
       "      <th>14562</th>\n",
       "      <td>275087</td>\n",
       "      <td>Auf der Walz</td>\n",
       "      <td>2019</td>\n",
       "      <td>5.53297</td>\n",
       "      <td>150</td>\n",
       "      <td>2.6667</td>\n",
       "      <td>Auf der Walz is a game that has the &amp;quot;jour...</td>\n",
       "      <td>2</td>\n",
       "      <td>4</td>\n",
       "      <td>90</td>\n",
       "      <td>150</td>\n",
       "      <td>[Exploration, Travel]</td>\n",
       "      <td>[Action Points, Hand Management, Network and R...</td>\n",
       "      <td>10</td>\n",
       "    </tr>\n",
       "    <tr>\n",
       "      <th>24735</th>\n",
       "      <td>220741</td>\n",
       "      <td>Yummy Yummy Pancake</td>\n",
       "      <td>2017</td>\n",
       "      <td>5.48779</td>\n",
       "      <td>15</td>\n",
       "      <td>1.0000</td>\n",
       "      <td>In Yummy Yummy Pancake, you're trying to ident...</td>\n",
       "      <td>2</td>\n",
       "      <td>4</td>\n",
       "      <td>15</td>\n",
       "      <td>15</td>\n",
       "      <td>[Children's Game]</td>\n",
       "      <td>[Deduction, Memory]</td>\n",
       "      <td>6</td>\n",
       "    </tr>\n",
       "    <tr>\n",
       "      <th>16994</th>\n",
       "      <td>144993</td>\n",
       "      <td>Clusterfight!</td>\n",
       "      <td>2014</td>\n",
       "      <td>5.52187</td>\n",
       "      <td>45</td>\n",
       "      <td>1.0000</td>\n",
       "      <td>Clusterfight is a party game of hypothetical b...</td>\n",
       "      <td>3</td>\n",
       "      <td>12</td>\n",
       "      <td>45</td>\n",
       "      <td>45</td>\n",
       "      <td>[Card Game, Fighting, Humor, Party Game]</td>\n",
       "      <td>[Betting and Bluffing, Storytelling, Take That]</td>\n",
       "      <td>8</td>\n",
       "    </tr>\n",
       "    <tr>\n",
       "      <th>22151</th>\n",
       "      <td>368898</td>\n",
       "      <td>Rhett &amp; Link's We're Still Good Game</td>\n",
       "      <td>2022</td>\n",
       "      <td>5.50238</td>\n",
       "      <td>30</td>\n",
       "      <td>1.5000</td>\n",
       "      <td>FROM THE GOOD MYTHICAL MORNING DUO: Dive into ...</td>\n",
       "      <td>4</td>\n",
       "      <td>12</td>\n",
       "      <td>30</td>\n",
       "      <td>30</td>\n",
       "      <td>[Party Game]</td>\n",
       "      <td>[Questions and Answers, Storytelling]</td>\n",
       "      <td>16</td>\n",
       "    </tr>\n",
       "    <tr>\n",
       "      <th>8378</th>\n",
       "      <td>294113</td>\n",
       "      <td>Imperial Tide: The Great War 1914-1918</td>\n",
       "      <td>2022</td>\n",
       "      <td>5.60447</td>\n",
       "      <td>240</td>\n",
       "      <td>2.3333</td>\n",
       "      <td>Imperial Tide is a 2-player strategic level wa...</td>\n",
       "      <td>1</td>\n",
       "      <td>2</td>\n",
       "      <td>180</td>\n",
       "      <td>240</td>\n",
       "      <td>[Wargame, World War I]</td>\n",
       "      <td>[Area Movement, Card Play Conflict Resolution,...</td>\n",
       "      <td>14</td>\n",
       "    </tr>\n",
       "    <tr>\n",
       "      <th>...</th>\n",
       "      <td>...</td>\n",
       "      <td>...</td>\n",
       "      <td>...</td>\n",
       "      <td>...</td>\n",
       "      <td>...</td>\n",
       "      <td>...</td>\n",
       "      <td>...</td>\n",
       "      <td>...</td>\n",
       "      <td>...</td>\n",
       "      <td>...</td>\n",
       "      <td>...</td>\n",
       "      <td>...</td>\n",
       "      <td>...</td>\n",
       "      <td>...</td>\n",
       "    </tr>\n",
       "    <tr>\n",
       "      <th>16878</th>\n",
       "      <td>382801</td>\n",
       "      <td>Grass is Greener</td>\n",
       "      <td>2023</td>\n",
       "      <td>5.52244</td>\n",
       "      <td>45</td>\n",
       "      <td>1.6000</td>\n",
       "      <td>Strategize and scheme against your neighbors i...</td>\n",
       "      <td>2</td>\n",
       "      <td>6</td>\n",
       "      <td>20</td>\n",
       "      <td>45</td>\n",
       "      <td>[Card Game]</td>\n",
       "      <td>[]</td>\n",
       "      <td>13</td>\n",
       "    </tr>\n",
       "    <tr>\n",
       "      <th>25542</th>\n",
       "      <td>146596</td>\n",
       "      <td>Logo Party</td>\n",
       "      <td>2013</td>\n",
       "      <td>5.47962</td>\n",
       "      <td>60</td>\n",
       "      <td>1.2000</td>\n",
       "      <td>Official Game Description:&amp;#10;&amp;#10;It's not w...</td>\n",
       "      <td>4</td>\n",
       "      <td>0</td>\n",
       "      <td>30</td>\n",
       "      <td>60</td>\n",
       "      <td>[Party Game]</td>\n",
       "      <td>[Acting, Paper-and-Pencil, Team-Based Game]</td>\n",
       "      <td>8</td>\n",
       "    </tr>\n",
       "    <tr>\n",
       "      <th>17208</th>\n",
       "      <td>123689</td>\n",
       "      <td>Fornovo 1495: Dawn of the Italian Wars, 1495-1525</td>\n",
       "      <td>2016</td>\n",
       "      <td>5.52102</td>\n",
       "      <td>180</td>\n",
       "      <td>3.2500</td>\n",
       "      <td>Order of Arms is a simulation game of battles ...</td>\n",
       "      <td>1</td>\n",
       "      <td>2</td>\n",
       "      <td>180</td>\n",
       "      <td>180</td>\n",
       "      <td>[Renaissance, Wargame]</td>\n",
       "      <td>[Area Movement, Dice Rolling, Movement Points,...</td>\n",
       "      <td>12</td>\n",
       "    </tr>\n",
       "    <tr>\n",
       "      <th>12288</th>\n",
       "      <td>1066</td>\n",
       "      <td>Zargos</td>\n",
       "      <td>1990</td>\n",
       "      <td>5.54864</td>\n",
       "      <td>120</td>\n",
       "      <td>2.6923</td>\n",
       "      <td>Principle of the game:&amp;#10;The players' goal i...</td>\n",
       "      <td>2</td>\n",
       "      <td>6</td>\n",
       "      <td>120</td>\n",
       "      <td>120</td>\n",
       "      <td>[Fantasy, Medieval, Territory Building]</td>\n",
       "      <td>[Area Movement, Dice Rolling, Variable Player ...</td>\n",
       "      <td>12</td>\n",
       "    </tr>\n",
       "    <tr>\n",
       "      <th>13794</th>\n",
       "      <td>220843</td>\n",
       "      <td>Overworld</td>\n",
       "      <td>2019</td>\n",
       "      <td>5.53735</td>\n",
       "      <td>40</td>\n",
       "      <td>1.8000</td>\n",
       "      <td>HOOK: Tile placement/area control game for 2-4...</td>\n",
       "      <td>2</td>\n",
       "      <td>4</td>\n",
       "      <td>30</td>\n",
       "      <td>40</td>\n",
       "      <td>[Exploration, Fantasy, Territory Building, Vid...</td>\n",
       "      <td>[Enclosure, Modular Board, Pattern Building, P...</td>\n",
       "      <td>14</td>\n",
       "    </tr>\n",
       "  </tbody>\n",
       "</table>\n",
       "<p>500 rows × 14 columns</p>\n",
       "</div>"
      ],
      "text/plain": [
       "           id                                               name  \\\n",
       "14562  275087                                       Auf der Walz   \n",
       "24735  220741                                Yummy Yummy Pancake   \n",
       "16994  144993                                      Clusterfight!   \n",
       "22151  368898               Rhett & Link's We're Still Good Game   \n",
       "8378   294113             Imperial Tide: The Great War 1914-1918   \n",
       "...       ...                                                ...   \n",
       "16878  382801                                   Grass is Greener   \n",
       "25542  146596                                         Logo Party   \n",
       "17208  123689  Fornovo 1495: Dawn of the Italian Wars, 1495-1525   \n",
       "12288    1066                                             Zargos   \n",
       "13794  220843                                          Overworld   \n",
       "\n",
       "       yearpublished  bayesaverage  avgplaytime  complexity  \\\n",
       "14562           2019       5.53297          150      2.6667   \n",
       "24735           2017       5.48779           15      1.0000   \n",
       "16994           2014       5.52187           45      1.0000   \n",
       "22151           2022       5.50238           30      1.5000   \n",
       "8378            2022       5.60447          240      2.3333   \n",
       "...              ...           ...          ...         ...   \n",
       "16878           2023       5.52244           45      1.6000   \n",
       "25542           2013       5.47962           60      1.2000   \n",
       "17208           2016       5.52102          180      3.2500   \n",
       "12288           1990       5.54864          120      2.6923   \n",
       "13794           2019       5.53735           40      1.8000   \n",
       "\n",
       "                                            descriptions  minplayers  \\\n",
       "14562  Auf der Walz is a game that has the &quot;jour...           2   \n",
       "24735  In Yummy Yummy Pancake, you're trying to ident...           2   \n",
       "16994  Clusterfight is a party game of hypothetical b...           3   \n",
       "22151  FROM THE GOOD MYTHICAL MORNING DUO: Dive into ...           4   \n",
       "8378   Imperial Tide is a 2-player strategic level wa...           1   \n",
       "...                                                  ...         ...   \n",
       "16878  Strategize and scheme against your neighbors i...           2   \n",
       "25542  Official Game Description:&#10;&#10;It's not w...           4   \n",
       "17208  Order of Arms is a simulation game of battles ...           1   \n",
       "12288  Principle of the game:&#10;The players' goal i...           2   \n",
       "13794  HOOK: Tile placement/area control game for 2-4...           2   \n",
       "\n",
       "       maxplayers  minplaytime  maxplaytime  \\\n",
       "14562           4           90          150   \n",
       "24735           4           15           15   \n",
       "16994          12           45           45   \n",
       "22151          12           30           30   \n",
       "8378            2          180          240   \n",
       "...           ...          ...          ...   \n",
       "16878           6           20           45   \n",
       "25542           0           30           60   \n",
       "17208           2          180          180   \n",
       "12288           6          120          120   \n",
       "13794           4           30           40   \n",
       "\n",
       "                                              categories  \\\n",
       "14562                              [Exploration, Travel]   \n",
       "24735                                  [Children's Game]   \n",
       "16994           [Card Game, Fighting, Humor, Party Game]   \n",
       "22151                                       [Party Game]   \n",
       "8378                              [Wargame, World War I]   \n",
       "...                                                  ...   \n",
       "16878                                        [Card Game]   \n",
       "25542                                       [Party Game]   \n",
       "17208                             [Renaissance, Wargame]   \n",
       "12288            [Fantasy, Medieval, Territory Building]   \n",
       "13794  [Exploration, Fantasy, Territory Building, Vid...   \n",
       "\n",
       "                                               mechanics  minage  \n",
       "14562  [Action Points, Hand Management, Network and R...      10  \n",
       "24735                                [Deduction, Memory]       6  \n",
       "16994    [Betting and Bluffing, Storytelling, Take That]       8  \n",
       "22151              [Questions and Answers, Storytelling]      16  \n",
       "8378   [Area Movement, Card Play Conflict Resolution,...      14  \n",
       "...                                                  ...     ...  \n",
       "16878                                                 []      13  \n",
       "25542        [Acting, Paper-and-Pencil, Team-Based Game]       8  \n",
       "17208  [Area Movement, Dice Rolling, Movement Points,...      12  \n",
       "12288  [Area Movement, Dice Rolling, Variable Player ...      12  \n",
       "13794  [Enclosure, Modular Board, Pattern Building, P...      14  \n",
       "\n",
       "[500 rows x 14 columns]"
      ]
     },
     "execution_count": 22,
     "metadata": {},
     "output_type": "execute_result"
    }
   ],
   "source": [
    "testingdata"
   ]
  },
  {
   "cell_type": "code",
   "execution_count": 23,
   "metadata": {},
   "outputs": [],
   "source": [
    "##Just to save my work so far\n",
    "testingdata.to_csv('testingdata.csv')"
   ]
  },
  {
   "cell_type": "code",
   "execution_count": 223,
   "metadata": {},
   "outputs": [],
   "source": [
    "##Just to save my work so far\n",
    "#trainingdata.to_csv('trainingdata.csv')"
   ]
  },
  {
   "cell_type": "markdown",
   "metadata": {},
   "source": [
    "REMEMBER TO FEED THROUGH TESTING DATA (when needed)"
   ]
  },
  {
   "cell_type": "code",
   "execution_count": 204,
   "metadata": {},
   "outputs": [],
   "source": [
    "def Numeric_EDA(data):\n",
    "    length = len(data)\n",
    "    mean = np.mean(data)\n",
    "    sd = np.std(data)\n",
    "    summary = np.percentile(data, [0, 25, 50, 75, 100])\n",
    "    return length, mean, sd, summary"
   ]
  },
  {
   "cell_type": "code",
   "execution_count": 224,
   "metadata": {},
   "outputs": [
    {
     "data": {
      "text/plain": [
       "1.9594240837696335"
      ]
     },
     "execution_count": 224,
     "metadata": {},
     "output_type": "execute_result"
    }
   ],
   "source": [
    "np.mean(trainingdata['minplayers'])"
   ]
  },
  {
   "cell_type": "code",
   "execution_count": 230,
   "metadata": {},
   "outputs": [
    {
     "data": {
      "text/plain": [
       "(764,\n",
       " 2.125364659685864,\n",
       " 0.7940418077090179,\n",
       " array([1.0158 , 1.47715, 2.00455, 2.6145 , 4.4365 ]))"
      ]
     },
     "execution_count": 230,
     "metadata": {},
     "output_type": "execute_result"
    }
   ],
   "source": [
    "Numeric_EDA(trainingdata['complexity'])"
   ]
  },
  {
   "cell_type": "code",
   "execution_count": 232,
   "metadata": {},
   "outputs": [],
   "source": [
    "import seaborn as sns\n",
    "import matplotlib.pyplot as plt"
   ]
  },
  {
   "cell_type": "code",
   "execution_count": 240,
   "metadata": {},
   "outputs": [
    {
     "data": {
      "image/png": "[encoded data removed]",
      "text/plain": [
       "<Figure size 1000x500 with 2 Axes>"
      ]
     },
     "metadata": {},
     "output_type": "display_data"
    }
   ],
   "source": [
    "plt.figure(figsize=(10,5))\n",
    "\n",
    "plt.subplot(1,2,1)\n",
    "sns.scatterplot(data=trainingdata, x=trainingdata['mechanics'].apply(len), y='bayesaverage')\n",
    "plt.subplot(1,2,2)\n",
    "\n",
    "sns.scatterplot(data=trainingdata, x='minplaytime', y='bayesaverage')\n",
    "plt.show()"
   ]
  }
 ],
 "metadata": {
  "kernelspec": {
   "display_name": "stat386",
   "language": "python",
   "name": "python3"
  },
  "language_info": {
   "codemirror_mode": {
    "name": "ipython",
    "version": 3
   },
   "file_extension": ".py",
   "mimetype": "text/x-python",
   "name": "python",
   "nbconvert_exporter": "python",
   "pygments_lexer": "ipython3",
   "version": "3.11.7"
  }
 },
 "nbformat": 4,
 "nbformat_minor": 2
}
